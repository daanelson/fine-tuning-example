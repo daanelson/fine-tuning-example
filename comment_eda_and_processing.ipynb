{
 "cells": [
  {
   "cell_type": "code",
   "execution_count": 1,
   "id": "d66021fb-adf8-4514-85d7-32ad544bc08c",
   "metadata": {},
   "outputs": [],
   "source": [
    "import pandas as pd"
   ]
  },
  {
   "cell_type": "code",
   "execution_count": 2,
   "id": "847a3970-37c4-47f5-9525-8b0107394420",
   "metadata": {},
   "outputs": [],
   "source": [
    "df = pd.read_csv('hn-comments.csv')"
   ]
  },
  {
   "cell_type": "code",
   "execution_count": 3,
   "id": "ade5fbd6-9bd7-4b2d-8ad0-4b732d18955e",
   "metadata": {},
   "outputs": [
    {
     "data": {
      "text/html": [
       "<div>\n",
       "<style scoped>\n",
       "    .dataframe tbody tr th:only-of-type {\n",
       "        vertical-align: middle;\n",
       "    }\n",
       "\n",
       "    .dataframe tbody tr th {\n",
       "        vertical-align: top;\n",
       "    }\n",
       "\n",
       "    .dataframe thead th {\n",
       "        text-align: right;\n",
       "    }\n",
       "</style>\n",
       "<table border=\"1\" class=\"dataframe\">\n",
       "  <thead>\n",
       "    <tr style=\"text-align: right;\">\n",
       "      <th></th>\n",
       "      <th>id</th>\n",
       "      <th>author</th>\n",
       "      <th>text</th>\n",
       "      <th>ranking</th>\n",
       "      <th>parent</th>\n",
       "      <th>id_1</th>\n",
       "      <th>author_1</th>\n",
       "      <th>text_1</th>\n",
       "      <th>ranking_1</th>\n",
       "      <th>parent_1</th>\n",
       "    </tr>\n",
       "  </thead>\n",
       "  <tbody>\n",
       "    <tr>\n",
       "      <th>0</th>\n",
       "      <td>6631159</td>\n",
       "      <td>bra-ket</td>\n",
       "      <td>cancer and blood flow are very closely related...</td>\n",
       "      <td>7</td>\n",
       "      <td>6630604</td>\n",
       "      <td>6630604</td>\n",
       "      <td>pg</td>\n",
       "      <td>One interesting thing I learned from this is h...</td>\n",
       "      <td>0</td>\n",
       "      <td>6630535</td>\n",
       "    </tr>\n",
       "    <tr>\n",
       "      <th>1</th>\n",
       "      <td>9663819</td>\n",
       "      <td>fweespeech</td>\n",
       "      <td>Yeah, you basically are buying a PC-in-a-box i...</td>\n",
       "      <td>10</td>\n",
       "      <td>9663694</td>\n",
       "      <td>9663694</td>\n",
       "      <td>cwyers</td>\n",
       "      <td>The low-end Alienware box has specs that don&amp;#...</td>\n",
       "      <td>0</td>\n",
       "      <td>9663421</td>\n",
       "    </tr>\n",
       "    <tr>\n",
       "      <th>2</th>\n",
       "      <td>6437543</td>\n",
       "      <td>mortdeus</td>\n",
       "      <td>I wrote a response to your comment but it beca...</td>\n",
       "      <td>25</td>\n",
       "      <td>6432425</td>\n",
       "      <td>6432425</td>\n",
       "      <td>rkalla</td>\n",
       "      <td>This is effectively the software-only equivale...</td>\n",
       "      <td>0</td>\n",
       "      <td>6432306</td>\n",
       "    </tr>\n",
       "    <tr>\n",
       "      <th>3</th>\n",
       "      <td>6705317</td>\n",
       "      <td>mathattack</td>\n",
       "      <td>You hit the nail on the head.  For most of us,...</td>\n",
       "      <td>8</td>\n",
       "      <td>6703068</td>\n",
       "      <td>6703068</td>\n",
       "      <td>dsrguru</td>\n",
       "      <td>This article is both accurate and highly misle...</td>\n",
       "      <td>0</td>\n",
       "      <td>6702790</td>\n",
       "    </tr>\n",
       "    <tr>\n",
       "      <th>4</th>\n",
       "      <td>7800056</td>\n",
       "      <td>blablabla123</td>\n",
       "      <td>Reminds me of Ruby, IMHO the version jump from...</td>\n",
       "      <td>7</td>\n",
       "      <td>7799923</td>\n",
       "      <td>7799923</td>\n",
       "      <td>illumen</td>\n",
       "      <td>I doubt the lazy people who haven&amp;#x27;t moved...</td>\n",
       "      <td>0</td>\n",
       "      <td>7799524</td>\n",
       "    </tr>\n",
       "  </tbody>\n",
       "</table>\n",
       "</div>"
      ],
      "text/plain": [
       "        id        author                                               text  \\\n",
       "0  6631159       bra-ket  cancer and blood flow are very closely related...   \n",
       "1  9663819    fweespeech  Yeah, you basically are buying a PC-in-a-box i...   \n",
       "2  6437543      mortdeus  I wrote a response to your comment but it beca...   \n",
       "3  6705317    mathattack  You hit the nail on the head.  For most of us,...   \n",
       "4  7800056  blablabla123  Reminds me of Ruby, IMHO the version jump from...   \n",
       "\n",
       "   ranking   parent     id_1 author_1  \\\n",
       "0        7  6630604  6630604       pg   \n",
       "1       10  9663694  9663694   cwyers   \n",
       "2       25  6432425  6432425   rkalla   \n",
       "3        8  6703068  6703068  dsrguru   \n",
       "4        7  7799923  7799923  illumen   \n",
       "\n",
       "                                              text_1  ranking_1  parent_1  \n",
       "0  One interesting thing I learned from this is h...          0   6630535  \n",
       "1  The low-end Alienware box has specs that don&#...          0   9663421  \n",
       "2  This is effectively the software-only equivale...          0   6432306  \n",
       "3  This article is both accurate and highly misle...          0   6702790  \n",
       "4  I doubt the lazy people who haven&#x27;t moved...          0   7799524  "
      ]
     },
     "execution_count": 3,
     "metadata": {},
     "output_type": "execute_result"
    }
   ],
   "source": [
    "df.head()"
   ]
  },
  {
   "cell_type": "code",
   "execution_count": 4,
   "id": "99f8709c-4d4e-425f-818f-e2755e610718",
   "metadata": {},
   "outputs": [],
   "source": [
    "import html"
   ]
  },
  {
   "cell_type": "code",
   "execution_count": 5,
   "id": "ae608b24-2d21-4a19-9ffa-e0691da758c6",
   "metadata": {},
   "outputs": [
    {
     "data": {
      "text/plain": [
       "'cancer and blood flow are very closely related: <a href=\"http://en.wikipedia.org/wiki/Angiogenesis\" rel=\"nofollow\">http://en.wikipedia.org/wiki/Angiogenesis</a>'"
      ]
     },
     "execution_count": 5,
     "metadata": {},
     "output_type": "execute_result"
    }
   ],
   "source": [
    "html.unescape(df.iloc[0].text)"
   ]
  },
  {
   "cell_type": "code",
   "execution_count": 6,
   "id": "75e5b8a4-d175-4aac-a624-c1d93d344777",
   "metadata": {},
   "outputs": [],
   "source": [
    "res = html.unescape(df.iloc[4].text_1)"
   ]
  },
  {
   "cell_type": "code",
   "execution_count": 7,
   "id": "4df189e4-e6a8-4f08-bfce-cb885e9c81f9",
   "metadata": {},
   "outputs": [
    {
     "name": "stdout",
     "output_type": "stream",
     "text": [
      "prompt: They're not fighting the jailbreakers, per se.<p>What they're doing is closing the security holes that allow exploits like jailbreaking.<p>This is a sensible and desirable thing to do.\n",
      "completion: These 'security holes' are not typically security holes which let people do things with the device without authorisation from the device's owner; instead, they prevent authorised people (by the person with legal authority over the device, i.e. the owner) from doing things, so are better termed a deficiency in an anti-feature rather than a security hole.<p>Fixing the holes in the anti-features may be in the interests of Apple if it lets them get a better deal with mobile networks, but it isn't in the interests of device owners.\n",
      "prompt: \"they just make the task of programming a crypto library a bit more fun and challenging, not riskier\"<p>Seriously? It makes it more difficult to get things right, but the risk of getting it wrong is not increased? And that after you just described how the challenges of JS have already directly led to vulnerabilities?<p>Also, you mostly don't really support your own argument. How exactly does a malicious server not affect \"crypto browser apps\"? How does staying out of scope for PCI DSS have anything to do with security (except maybe demonstrating that PCI DSS is crap because it can so easily be circumvented)? Also, in what kind of scenario would leaking info in a referer be a problem, but leaking the same info in encrypted form would not? And how do you guarantee that your verification code is loaded fresh from the server once your application has been compromised in a browser?\n",
      "completion: > Seriously? It makes it more difficult to get things right, but the risk of getting it wrong is not increased? And that after you just described how the challenges of JS have already directly led to vulnerabilities?<p>Well it seems that you misunderstood which challenges I was talking about. Lack of types is a big problem, but besides that everything else doesn't make the risk bigger.<p>> How exactly does a malicious server not affect \"crypto browser apps\"?<p>I didn't claim that malicious servers won't be able to affect crypto browser apps. What I said is that in these apps you have to trust the server already, so it doesn't make sense to consider them untrusted.<p>> How does staying out of scope for PCI DSS have anything to do with security (except maybe demonstrating that PCI DSS is crap because it can so easily be circumvented)?<p>It's exactly the point. When people say \"javavascript crypto is harmful\" they don't consider use cases where it's really useful, even just to circumvent PCI DSS.<p>> Also, in what kind of scenario would leaking info in a referer be a problem, but leaking the same info in encrypted form would not?<p>I don't understand this question.<p>> And how do you guarantee that your verification code is loaded fresh from the server once your application has been compromised in a browser?<p>Because every time I refresh my browser I get a chance to get some trusted code from the server.\n",
      "prompt: Much of DDG's privacy stems from not having any user data to store in the first place. While that can be circumvented to some extent, it's hard to do so without outwardly visible consequences.\n",
      "completion: What exactly is preventing the government from ordering DDG to store queries and the IP addresses that make them?\n",
      "prompt: > Two golden quotes from a Gnome dev.<p>That's not <i>a Gnome dev</i> that's William Jon McCann, the main Gnome 3 designer. That McCann claims ignorance of XFCE without shame is pretty shocking.\n",
      "completion: Pretty sure he is more than just a designer. He's the mastermind behind consolekit (now abandoned I guess in favor of logind or some such from systemd).\n",
      "prompt: How about the hit to reputation? Many would level the criticism that publication was too early.\n",
      "completion: That's a problem that needs to be fixed.\n",
      "prompt: twampss, who are you? You've (successfully, thanks!) submitted some of my posts in the past here and am wondering who you are.. you have a blog I can read too?\n",
      "completion: Just another big fan of your blog!  Given the content you write about and the quality of the HN community, I'm usually surprised if I'm the first one to submit a post from your site.  It's a perfect fit!<p>No blog on my end currently - took it down a while ago and haven't found the time to get it started up again.  Hopefully soon!  My email is [this username] at gmail dot com.  I am always up for a good chat!  Keep up the great work!\n",
      "prompt: Revoking a certificate works as follows:<p>1. You add the certificate to your Certificate Revocation List.<p>2. You pretend that people will check the CRL before trusting the forged certificate, ignoring the fact that some clients only check for updates to the CRL periodically and most don't check CRLs at all.<p>In short, it doesn't really work.\n",
      "completion: See also <a href=\"http://www.imperialviolet.org/2011/03/18/revocation.html\" rel=\"nofollow\">http://www.imperialviolet.org/2011/03/18/revocation.html</a>\n",
      "prompt: What about for mutable structs?\n",
      "completion: Mutable struct are a very bad idea.\n",
      "prompt: Mexico\n",
      "completion: That would be the option Southern north america :)\n",
      "prompt: I would not say that games become a commodity because anyone can make them now.<p>You still need to make a game that is playable, has replay value, engages the person and is fun to play. That is no easy task at all.<p>Some have the gift for it and for those this is an incredible opportunity. I look at Temple Run and Ting Wings on iOS. Two games that stand out for their uniqueness and that were developed by 1 or 2 people.<p>No one is getting anywhere making another Tetris clone or a match 3 game unless there is really unique twist to the game.<p>At the end of the day, the tools are much much better but you still need that gift to know what will click with people.\n",
      "completion: This. There is only one Limbo, Gish, Fez, Galcon, Voxatron etc.\n"
     ]
    }
   ],
   "source": [
    "rand_samps = df[['text', 'text_1']].sample(n=10)\n",
    "\n",
    "for _, val in rand_samps.iterrows():\n",
    "    print(f\"prompt: {html.unescape(val.text_1)}\")\n",
    "    print(f\"completion: {html.unescape(val.text)}\")"
   ]
  },
  {
   "cell_type": "code",
   "execution_count": 8,
   "id": "b44f814e-0de7-4f5c-9ce5-818576567b79",
   "metadata": {},
   "outputs": [
    {
     "data": {
      "text/plain": [
       "'I would not say that games become a commodity because anyone can make them now.<p>You still need to make a game that is playable, has replay value, engages the person and is fun to play. That is no easy task at all.<p>Some have the gift for it and for those this is an incredible opportunity. I look at Temple Run and Ting Wings on iOS. Two games that stand out for their uniqueness and that were developed by 1 or 2 people.<p>No one is getting anywhere making another Tetris clone or a match 3 game unless there is really unique twist to the game.<p>At the end of the day, the tools are much much better but you still need that gift to know what will click with people.'"
      ]
     },
     "execution_count": 8,
     "metadata": {},
     "output_type": "execute_result"
    }
   ],
   "source": [
    "html.unescape(val.text_1)"
   ]
  },
  {
   "cell_type": "markdown",
   "id": "bb57b639-6da4-4334-890b-d2e3e7889944",
   "metadata": {},
   "source": [
    "If I'm being realistic here, I'd replace the `<p>` tags with `\\n` and then use bs to unescape"
   ]
  },
  {
   "cell_type": "code",
   "execution_count": 9,
   "id": "1bb3e2f1-558a-4229-869f-b64f1d4117e5",
   "metadata": {},
   "outputs": [],
   "source": [
    "from bs4 import BeautifulSoup"
   ]
  },
  {
   "cell_type": "code",
   "execution_count": 10,
   "id": "ec1d334f-5493-4971-b91b-7510061b93ad",
   "metadata": {},
   "outputs": [
    {
     "data": {
      "text/plain": [
       "'I would not say that games become a commodity because anyone can make them now.\\nYou still need to make a game that is playable, has replay value, engages the person and is fun to play. That is no easy task at all.\\nSome have the gift for it and for those this is an incredible opportunity. I look at Temple Run and Ting Wings on iOS. Two games that stand out for their uniqueness and that were developed by 1 or 2 people.\\nNo one is getting anywhere making another Tetris clone or a match 3 game unless there is really unique twist to the game.\\nAt the end of the day, the tools are much much better but you still need that gift to know what will click with people.'"
      ]
     },
     "execution_count": 10,
     "metadata": {},
     "output_type": "execute_result"
    }
   ],
   "source": [
    "val.text_1.replace('<p>', '\\n')"
   ]
  },
  {
   "cell_type": "code",
   "execution_count": 11,
   "id": "a1c95121-b24b-4d79-be16-25daa6eeb85d",
   "metadata": {},
   "outputs": [
    {
     "data": {
      "text/plain": [
       "'I would not say that games become a commodity because anyone can make them now.\\nYou still need to make a game that is playable, has replay value, engages the person and is fun to play. That is no easy task at all.\\nSome have the gift for it and for those this is an incredible opportunity. I look at Temple Run and Ting Wings on iOS. Two games that stand out for their uniqueness and that were developed by 1 or 2 people.\\nNo one is getting anywhere making another Tetris clone or a match 3 game unless there is really unique twist to the game.\\nAt the end of the day, the tools are much much better but you still need that gift to know what will click with people.'"
      ]
     },
     "execution_count": 11,
     "metadata": {},
     "output_type": "execute_result"
    }
   ],
   "source": [
    "BeautifulSoup(val.text_1.replace('<p>', '\\n')).get_text()"
   ]
  },
  {
   "cell_type": "code",
   "execution_count": 12,
   "id": "ad33fbe8-c598-4503-bd0b-a508fcde71e0",
   "metadata": {},
   "outputs": [
    {
     "data": {
      "text/plain": [
       "'> Seriously? It makes it more difficult to get things right, but the risk of getting it wrong is not increased? And that after you just described how the challenges of JS have already directly led to vulnerabilities?\\nWell it seems that you misunderstood which challenges I was talking about. Lack of types is a big problem, but besides that everything else doesn\\'t make the risk bigger.\\n> How exactly does a malicious server not affect \"crypto browser apps\"?\\nI didn\\'t claim that malicious servers won\\'t be able to affect crypto browser apps. What I said is that in these apps you have to trust the server already, so it doesn\\'t make sense to consider them untrusted.\\n> How does staying out of scope for PCI DSS have anything to do with security (except maybe demonstrating that PCI DSS is crap because it can so easily be circumvented)?\\nIt\\'s exactly the point. When people say \"javavascript crypto is harmful\" they don\\'t consider use cases where it\\'s really useful, even just to circumvent PCI DSS.\\n> Also, in what kind of scenario would leaking info in a referer be a problem, but leaking the same info in encrypted form would not?\\nI don\\'t understand this question.\\n> And how do you guarantee that your verification code is loaded fresh from the server once your application has been compromised in a browser?\\nBecause every time I refresh my browser I get a chance to get some trusted code from the server.'"
      ]
     },
     "execution_count": 12,
     "metadata": {},
     "output_type": "execute_result"
    }
   ],
   "source": [
    "BeautifulSoup(rand_samps.iloc[1].text.replace('<p>', '\\n')).get_text()"
   ]
  },
  {
   "cell_type": "markdown",
   "id": "a3e0622c-76ad-4611-8497-adf12b7e3eca",
   "metadata": {},
   "source": [
    "Cool. This is indeed what we want. "
   ]
  },
  {
   "cell_type": "code",
   "execution_count": 13,
   "id": "8d9719ea-5359-4808-94d0-c6d7fce0e584",
   "metadata": {},
   "outputs": [
    {
     "name": "stderr",
     "output_type": "stream",
     "text": [
      "/var/folders/0q/132d4mqx32z7hhp3qh_g3vrm0000gn/T/ipykernel_61325/2469649878.py:1: MarkupResemblesLocatorWarning: The input looks more like a filename than markup. You may want to open this file and pass the filehandle into Beautiful Soup.\n",
      "  df['prompt'] = df.apply(lambda r: BeautifulSoup(str(r.text_1).replace('<p>', '\\n')).get_text(), axis=1)\n",
      "/var/folders/0q/132d4mqx32z7hhp3qh_g3vrm0000gn/T/ipykernel_61325/2469649878.py:1: MarkupResemblesLocatorWarning: The input looks more like a URL than markup. You may want to use an HTTP client like requests to get the document behind the URL, and feed that document to Beautiful Soup.\n",
      "  df['prompt'] = df.apply(lambda r: BeautifulSoup(str(r.text_1).replace('<p>', '\\n')).get_text(), axis=1)\n"
     ]
    }
   ],
   "source": [
    "df['prompt'] = df.apply(lambda r: BeautifulSoup(str(r.text_1).replace('<p>', '\\n')).get_text(), axis=1)"
   ]
  },
  {
   "cell_type": "code",
   "execution_count": 14,
   "id": "2e70d5b0-f5f0-4d94-9fe4-8bc96978a50f",
   "metadata": {
    "collapsed": true,
    "jupyter": {
     "outputs_hidden": true
    },
    "tags": []
   },
   "outputs": [
    {
     "name": "stdout",
     "output_type": "stream",
     "text": [
      "Spot on. We were rudely awoken at 3AM by our alert system after one of our DC's caught fire (host Europe/123-reg in nottingham - utter fucking cowboys now moved on from there). UPS blew and took out the entire power system and generator.\n",
      "It definitely happens.\n",
      "___\n",
      "Same here (OS X, Safari). It doesn't look much better in the demos either. Their demos include some truly horrific examples, like Linux, Firefox 24, Ubuntu: http://fontcombiner.com/docs/media/demo/linux_firefox_ubuntu...\n",
      "___\n",
      "Wouldn't it have been easier for them to redirect everything to a static black page instead of overlaying this with fancy CSS magic? Not to mention the fact that every page still gets loaded before the banner pops up, which is not only visually jarring, but also puts completely unnecessary load on their servers. Doesn't serving content cost money?\n",
      "___\n",
      "Programming language names seem particularly bad in that respect: python, ruby, Java, C...\n",
      "___\n",
      "I wouldn't rule that out with that Intel \"3D transistor\" thingie. Power dissipation goes down, clock can go up. And the device also gets smaller, so more cores can be put on the same chip.\n",
      "Not only that, but we are only starting to play with memristors. Silicon still has some mileage.\n",
      "___\n",
      "A good friend of mine works in the US under a high-Skill visa - as a tenured professor at Cornell, with oh, the Presidents medal for something very clever.\n",
      "I think high skilled is a term that we coders are happy to apply to themselves, but really folks we are not compared to a genuine elite.   The future will be invented by a very small number of brilliant people - the rest if us are just here to fill in the gaps behind them.\n",
      "let it go, start building a remote-working-orientated company and hire people wherever they live.  Stop worrying about the country's tax take.\n",
      "___\n",
      "Come on, he didn't fund the war in Uganda. I don't share his views or anything but I don't see why \"not liking the gays\" or whatever should have any influence at all on whether or not he's suitable to run a tech company. It's not a political office.\n",
      "___\n",
      "Having heard numerous accounts of the Google hiring process, both successful and unsuccessful, I'm convinced that it serves a dual role. In addition to brining in qualified employees, I believe it's intent is to reject qualified candidates. Those qualified candidates will end up being engineering leaders in companies that Google interacts with and the more that they can maintain the impression that Google engineers are the best of the best, the easier those interactions will be and the better received Google products will be. It also means that when Google calls and invites someone to interview, they almost never get turned down.\n",
      "___\n",
      "Well, this should go down in the annals of logos which should have gotten some wider impressions before launching.\n",
      "Since nobody else on HN has mentioned it, all of twitter thinks the new logo looks like a vagina.  It's hard to unsee.\n",
      "___\n",
      "But if you just hit the docs as needed, you will automatically be doing spaced repitition on anything that isn't a one-off need.\n",
      "___\n",
      "I'd really love to see someone make this portable to other unixes -- it'd be lovely to finally have good package management for the ~/mine/bin dirs I have on servers everywhere\n",
      "Amen. That could be hugely powerful.\n",
      "___\n",
      "I'd argue that at this point we aren't LinkedIn's users anymore. Recruiters and HR are their users. We are just the data set.\n",
      "___\n",
      "Slightly side question:\n",
      "If JPG and video codecs already store information in terms of wavelets, frequencies, or whatever have you --\n",
      "Are there any programs that will render JPG or videos at a higher-than-native resolution?\n",
      "I know you're not gaining any extra signal. But if you have a 320x240 video, and you want to play it full-screen at 1280x960 -- instead of rendering at 320x240 and then naively upscaling 4x, would some kind of direct codec rendering to 1280x960 possibly produce more accurate results?\n",
      "If the codec/format is doing a good job at extracting \"meaning\" from the original image for its compression, it seems like it ought to.\n",
      "___\n",
      "This seems like a neat plugin, but I don't understand all the mega excitement.\n",
      "What am I missing, why is this so earth shattering (read the other comments in this thread)?  What is justifying people saying $37 is a \"frictionless\" price?\n",
      "What are you planning to do that makes you so excited by this?\n",
      "___\n",
      "Port forwarding would also be a handy feature, albeit a major (impossible?) technical challenge to deal with the varying support for interfaces to set it up. Or perhaps an ngrok-style tunnelling feature (which would obviously be more expensive to run).\n",
      "___\n",
      "How? Space is not like driving a car. To go higher you've got to burn fuel to gain velocity and altitude, do go lower you've got to burn fuel to slow down. If you're going the wrong direction or angle, you've got to burn a ton of fuel to change that (i.e. if at 90deg to ISS, you've got no velocity vector in common). And that's just my armchair assessment that ignores the myriad complications of spaceflight.\n",
      "This is a common misconception, however. For example, people want to know why Columbia didn't just buzz over and hook up with the ISS rather than burning up. They were at a different altitude from ISS and could not have made the jump with available fuel.\n",
      "___\n",
      "This is not completely relevant to the current topic, but I was wondering if any video exists of the inside of a nuclear reactor. What does it look like when it's running? A brief search on Youtube could not locate anything.\n",
      "___\n",
      "Sorry but this is funny.\n",
      "___\n",
      "Not anymore - with V4 generator based \"coroutines\" are available (enabled by default).\n",
      "___\n",
      "I think we need to start lobbying for a bill that decriminalizes copyright infringement and makes it purely a civil matter.\n",
      "___\n"
     ]
    }
   ],
   "source": [
    "for val in df.prompt.sample(n=20):\n",
    "    print(val)\n",
    "    print('___')"
   ]
  },
  {
   "cell_type": "code",
   "execution_count": 14,
   "id": "a29c52c2-6389-4f0c-92b4-e1181eccc410",
   "metadata": {},
   "outputs": [
    {
     "name": "stderr",
     "output_type": "stream",
     "text": [
      "/var/folders/0q/132d4mqx32z7hhp3qh_g3vrm0000gn/T/ipykernel_61325/211836400.py:1: MarkupResemblesLocatorWarning: The input looks more like a filename than markup. You may want to open this file and pass the filehandle into Beautiful Soup.\n",
      "  df['completion'] = df.apply(lambda r: BeautifulSoup(str(r.text).replace('<p>', '\\n')).get_text(), axis=1)\n"
     ]
    }
   ],
   "source": [
    "df['completion'] = df.apply(lambda r: BeautifulSoup(str(r.text).replace('<p>', '\\n')).get_text(), axis=1)"
   ]
  },
  {
   "cell_type": "code",
   "execution_count": 15,
   "id": "461e895f-64f3-41ef-8b4e-f1e832ed39a6",
   "metadata": {},
   "outputs": [],
   "source": [
    "data_df = df[['prompt', 'completion']]"
   ]
  },
  {
   "cell_type": "code",
   "execution_count": 16,
   "id": "c37c525e-0d5f-4056-9cfc-b33f66cd01f2",
   "metadata": {},
   "outputs": [
    {
     "data": {
      "text/plain": [
       "(69038, 2)"
      ]
     },
     "execution_count": 16,
     "metadata": {},
     "output_type": "execute_result"
    }
   ],
   "source": [
    "data_df.shape"
   ]
  },
  {
   "cell_type": "markdown",
   "id": "f9d5da5e-f19c-424c-b72c-425f9c9c27f3",
   "metadata": {},
   "source": [
    "#### 1k, 10k, 70k"
   ]
  },
  {
   "cell_type": "markdown",
   "id": "d28bdc70-af93-4197-ba7a-303f918d2f2d",
   "metadata": {},
   "source": [
    "### Let's provide instructions in the prompt"
   ]
  },
  {
   "cell_type": "code",
   "execution_count": 17,
   "id": "d44d8e15-9645-42c6-a9f8-570f5884bbe8",
   "metadata": {},
   "outputs": [
    {
     "data": {
      "text/plain": [
       "'Write a response to the following message:\\nOne interesting thing I learned from this is how highly correlated mortality from heart disease and cancer are. They\\'re quite different types of disease, but perhaps what they have in common is that they\\'re diseases of civilization in the sense of being caused by de facto \"toxins\" (I don\\'t mean this literally) of industrialized life like processed foods, lack of exercise, cigarettes, etc.\\nIs there local data about possible causes of mortality?  If so that might be a good thing to add.'"
      ]
     },
     "execution_count": 17,
     "metadata": {},
     "output_type": "execute_result"
    }
   ],
   "source": [
    "\"Write a response to the following message:\\n\" + data_df['prompt'].values[0]"
   ]
  },
  {
   "cell_type": "code",
   "execution_count": 18,
   "id": "dbf0ed1d-3697-4120-860b-0fdd99c17a8a",
   "metadata": {},
   "outputs": [
    {
     "name": "stderr",
     "output_type": "stream",
     "text": [
      "/var/folders/0q/132d4mqx32z7hhp3qh_g3vrm0000gn/T/ipykernel_61325/925376857.py:1: SettingWithCopyWarning: \n",
      "A value is trying to be set on a copy of a slice from a DataFrame.\n",
      "Try using .loc[row_indexer,col_indexer] = value instead\n",
      "\n",
      "See the caveats in the documentation: https://pandas.pydata.org/pandas-docs/stable/user_guide/indexing.html#returning-a-view-versus-a-copy\n",
      "  data_df['prompt'] = data_df.apply(lambda r: \"Write a response to the following message:\\n\" + r.prompt, axis=1)\n"
     ]
    }
   ],
   "source": [
    "data_df['prompt'] = data_df.apply(lambda r: \"Write a response to the following message:\\n\" + r.prompt, axis=1)"
   ]
  },
  {
   "cell_type": "code",
   "execution_count": 19,
   "id": "23a22568-27cb-4a15-bd90-7e287c1a61b5",
   "metadata": {},
   "outputs": [
    {
     "data": {
      "text/plain": [
       "\"Write a response to the following message:\\nVery convenient that this 'bad egg' in VC happens to be one of the 4% women in the field, and who again, seemed to do a far, far more competent job at the actual job description of picking the right companies to invest in, rather than total intangibles like 'thought leadership' and 'owning the room'. Read more articles about the case, read about how she wanted to invest in Twitter but they picked a bunch of losers instead, and still ignored her for promotion for intangibles that can straightfowardly be construed as gender-biased.\""
      ]
     },
     "execution_count": 19,
     "metadata": {},
     "output_type": "execute_result"
    }
   ],
   "source": [
    "data_df['prompt'].values[3456]"
   ]
  },
  {
   "cell_type": "markdown",
   "id": "d7a3bd53-2a49-49bc-8ceb-2b35731559d7",
   "metadata": {},
   "source": [
    "### Ok, and what about tokenization?"
   ]
  },
  {
   "cell_type": "code",
   "execution_count": 20,
   "id": "bb2132b2-04b2-471e-9ed6-1b0273d9df34",
   "metadata": {},
   "outputs": [
    {
     "name": "stderr",
     "output_type": "stream",
     "text": [
      "/Users/dan/miniconda3/envs/base_ml/lib/python3.9/site-packages/tqdm/auto.py:21: TqdmWarning: IProgress not found. Please update jupyter and ipywidgets. See https://ipywidgets.readthedocs.io/en/stable/user_install.html\n",
      "  from .autonotebook import tqdm as notebook_tqdm\n"
     ]
    }
   ],
   "source": [
    "from transformers import T5Tokenizer"
   ]
  },
  {
   "cell_type": "code",
   "execution_count": 21,
   "id": "cd82dbd1-c1b6-4751-bd86-fc2ce8ab618f",
   "metadata": {},
   "outputs": [],
   "source": [
    "tok = T5Tokenizer.from_pretrained('google/flan-t5-xl')"
   ]
  },
  {
   "cell_type": "code",
   "execution_count": 22,
   "id": "d2bcb299-69b2-4ef2-a937-a179066aae41",
   "metadata": {},
   "outputs": [
    {
     "name": "stderr",
     "output_type": "stream",
     "text": [
      "Token indices sequence length is longer than the specified maximum sequence length for this model (516 > 512). Running this sequence through the model will result in indexing errors\n",
      "/Users/dan/miniconda3/envs/base_ml/lib/python3.9/site-packages/transformers/models/t5/tokenization_t5.py:226: UserWarning: This sequence already has </s>. In future versions this behavior may lead to duplicated eos tokens being added.\n",
      "  warnings.warn(\n",
      "/var/folders/0q/132d4mqx32z7hhp3qh_g3vrm0000gn/T/ipykernel_61325/1527626582.py:1: SettingWithCopyWarning: \n",
      "A value is trying to be set on a copy of a slice from a DataFrame.\n",
      "Try using .loc[row_indexer,col_indexer] = value instead\n",
      "\n",
      "See the caveats in the documentation: https://pandas.pydata.org/pandas-docs/stable/user_guide/indexing.html#returning-a-view-versus-a-copy\n",
      "  data_df['prompt_tokens'] = data_df.apply(lambda r: tok(r.prompt), axis=1)\n"
     ]
    }
   ],
   "source": [
    "data_df['prompt_tokens'] = data_df.apply(lambda r: tok(r.prompt), axis=1)"
   ]
  },
  {
   "cell_type": "code",
   "execution_count": 23,
   "id": "ca684bad-cdee-4085-a873-b04f0ddfbd43",
   "metadata": {},
   "outputs": [
    {
     "name": "stderr",
     "output_type": "stream",
     "text": [
      "/var/folders/0q/132d4mqx32z7hhp3qh_g3vrm0000gn/T/ipykernel_61325/3727111619.py:1: SettingWithCopyWarning: \n",
      "A value is trying to be set on a copy of a slice from a DataFrame.\n",
      "Try using .loc[row_indexer,col_indexer] = value instead\n",
      "\n",
      "See the caveats in the documentation: https://pandas.pydata.org/pandas-docs/stable/user_guide/indexing.html#returning-a-view-versus-a-copy\n",
      "  data_df['prompt_len'] = [len(val['input_ids']) for val in data_df['prompt_tokens']]\n"
     ]
    }
   ],
   "source": [
    "data_df['prompt_len'] = [len(val['input_ids']) for val in data_df['prompt_tokens']]"
   ]
  },
  {
   "cell_type": "code",
   "execution_count": 23,
   "id": "10a3b6cd-123c-4b68-8c7b-f1529d919253",
   "metadata": {},
   "outputs": [
    {
     "data": {
      "text/plain": [
       "32      648\n",
       "33      636\n",
       "26      625\n",
       "29      619\n",
       "41      617\n",
       "       ... \n",
       "648       1\n",
       "632       1\n",
       "1758      1\n",
       "710       1\n",
       "935       1\n",
       "Name: prompt_len, Length: 997, dtype: int64"
      ]
     },
     "execution_count": 23,
     "metadata": {},
     "output_type": "execute_result"
    }
   ],
   "source": [
    "data_df.prompt_len.value_counts()"
   ]
  },
  {
   "cell_type": "code",
   "execution_count": 24,
   "id": "3ddcd285-5f68-49a7-81eb-c7b807c5f284",
   "metadata": {},
   "outputs": [
    {
     "data": {
      "text/plain": [
       "4291"
      ]
     },
     "execution_count": 24,
     "metadata": {},
     "output_type": "execute_result"
    }
   ],
   "source": [
    "max(data_df.prompt_len)"
   ]
  },
  {
   "cell_type": "code",
   "execution_count": 25,
   "id": "c2eebc48-856a-4ca5-b56c-2da27546e315",
   "metadata": {},
   "outputs": [
    {
     "data": {
      "text/plain": [
       "count    69038.000000\n",
       "mean       112.081361\n",
       "std        128.372138\n",
       "min          2.000000\n",
       "25%         38.000000\n",
       "50%         73.000000\n",
       "75%        139.000000\n",
       "max       4291.000000\n",
       "Name: prompt_len, dtype: float64"
      ]
     },
     "execution_count": 25,
     "metadata": {},
     "output_type": "execute_result"
    }
   ],
   "source": [
    "data_df.prompt_len.describe()"
   ]
  },
  {
   "cell_type": "code",
   "execution_count": 24,
   "id": "bd6d8bab-6e0b-4e00-87d7-57d60e702650",
   "metadata": {},
   "outputs": [
    {
     "data": {
      "text/plain": [
       "(1218, 4)"
      ]
     },
     "execution_count": 24,
     "metadata": {},
     "output_type": "execute_result"
    }
   ],
   "source": [
    "data_df[data_df.prompt_len > 512].shape"
   ]
  },
  {
   "cell_type": "code",
   "execution_count": 28,
   "id": "2e11ef8b-708e-47fe-a1b5-f9759bf7b67e",
   "metadata": {},
   "outputs": [
    {
     "data": {
      "text/plain": [
       "0.017642457776876504"
      ]
     },
     "execution_count": 28,
     "metadata": {},
     "output_type": "execute_result"
    }
   ],
   "source": [
    "1218 / 69038"
   ]
  },
  {
   "cell_type": "markdown",
   "id": "a0b3a006-39e8-4175-92cf-b91944d77bdf",
   "metadata": {},
   "source": [
    "1.7% of the data is above 512 tokens.  "
   ]
  },
  {
   "cell_type": "markdown",
   "id": "a155d516-56a5-4f48-aca5-59c92b2fb49e",
   "metadata": {},
   "source": [
    "Does this hold for the output"
   ]
  },
  {
   "cell_type": "code",
   "execution_count": 25,
   "id": "5fb5afff-0c78-4b7b-80dd-a003a8337f06",
   "metadata": {},
   "outputs": [],
   "source": [
    "tok = T5Tokenizer.from_pretrained('google/flan-t5-xl')"
   ]
  },
  {
   "cell_type": "code",
   "execution_count": 26,
   "id": "d93fedf3-fd16-4c4a-8dbd-d590414c1e48",
   "metadata": {},
   "outputs": [
    {
     "name": "stderr",
     "output_type": "stream",
     "text": [
      "Token indices sequence length is longer than the specified maximum sequence length for this model (881 > 512). Running this sequence through the model will result in indexing errors\n",
      "/var/folders/0q/132d4mqx32z7hhp3qh_g3vrm0000gn/T/ipykernel_61325/1623134415.py:1: SettingWithCopyWarning: \n",
      "A value is trying to be set on a copy of a slice from a DataFrame.\n",
      "Try using .loc[row_indexer,col_indexer] = value instead\n",
      "\n",
      "See the caveats in the documentation: https://pandas.pydata.org/pandas-docs/stable/user_guide/indexing.html#returning-a-view-versus-a-copy\n",
      "  data_df['completion_tokens'] = data_df.apply(lambda r: tok(r.completion), axis=1)\n"
     ]
    }
   ],
   "source": [
    "data_df['completion_tokens'] = data_df.apply(lambda r: tok(r.completion), axis=1)"
   ]
  },
  {
   "cell_type": "code",
   "execution_count": 27,
   "id": "42b8293c-5c7b-4131-bebf-f2319336a70b",
   "metadata": {},
   "outputs": [
    {
     "name": "stderr",
     "output_type": "stream",
     "text": [
      "/var/folders/0q/132d4mqx32z7hhp3qh_g3vrm0000gn/T/ipykernel_61325/1565454480.py:1: SettingWithCopyWarning: \n",
      "A value is trying to be set on a copy of a slice from a DataFrame.\n",
      "Try using .loc[row_indexer,col_indexer] = value instead\n",
      "\n",
      "See the caveats in the documentation: https://pandas.pydata.org/pandas-docs/stable/user_guide/indexing.html#returning-a-view-versus-a-copy\n",
      "  data_df['completion_len'] = [len(val['input_ids']) for val in data_df['completion_tokens']]\n"
     ]
    }
   ],
   "source": [
    "data_df['completion_len'] = [len(val['input_ids']) for val in data_df['completion_tokens']]"
   ]
  },
  {
   "cell_type": "markdown",
   "id": "5310cf72-5f82-4ef4-8671-3f293513a761",
   "metadata": {},
   "source": [
    "Need to scrub `</s>`"
   ]
  },
  {
   "cell_type": "code",
   "execution_count": 28,
   "id": "01160dc1-663f-466a-8297-0f64481a0403",
   "metadata": {},
   "outputs": [
    {
     "data": {
      "text/plain": [
       "(555, 6)"
      ]
     },
     "execution_count": 28,
     "metadata": {},
     "output_type": "execute_result"
    }
   ],
   "source": [
    "data_df[data_df.completion_len > 512].shape"
   ]
  },
  {
   "cell_type": "code",
   "execution_count": 31,
   "id": "3db09726-cc1e-45f4-9f7a-2eb4048371aa",
   "metadata": {},
   "outputs": [
    {
     "data": {
      "text/plain": [
       "3862"
      ]
     },
     "execution_count": 31,
     "metadata": {},
     "output_type": "execute_result"
    }
   ],
   "source": [
    "max(data_df.completion_len)"
   ]
  },
  {
   "cell_type": "markdown",
   "id": "0f7ad1be-6fea-42c7-b7d2-48feacc0d036",
   "metadata": {},
   "source": [
    "Replies are smaller! imagine that. "
   ]
  },
  {
   "cell_type": "code",
   "execution_count": 32,
   "id": "d37a19c9-0950-4165-bfab-3a9821306496",
   "metadata": {},
   "outputs": [
    {
     "data": {
      "text/plain": [
       "count    69038.000000\n",
       "mean        87.446319\n",
       "std         99.036629\n",
       "min          2.000000\n",
       "25%         31.000000\n",
       "50%         58.000000\n",
       "75%        108.000000\n",
       "max       3862.000000\n",
       "Name: completion_len, dtype: float64"
      ]
     },
     "execution_count": 32,
     "metadata": {},
     "output_type": "execute_result"
    }
   ],
   "source": [
    "data_df.completion_len.describe()"
   ]
  },
  {
   "cell_type": "markdown",
   "id": "763b3a07-eab5-4021-a53a-cce9a545ebce",
   "metadata": {},
   "source": [
    "Let's go ahead and pull out prompts > 512 tokens, responses > 512 tokens."
   ]
  },
  {
   "cell_type": "code",
   "execution_count": 29,
   "id": "495f7d1f-0e24-4ce9-94ed-5346f63b0c02",
   "metadata": {},
   "outputs": [],
   "source": [
    "data_df = data_df[data_df.apply(lambda r: r.prompt_len < 512 and r.completion_len < 512, axis=1)]"
   ]
  },
  {
   "cell_type": "code",
   "execution_count": 30,
   "id": "5df45684-5e09-4c52-8c72-9ccc10eff932",
   "metadata": {},
   "outputs": [
    {
     "data": {
      "text/plain": [
       "(67315, 6)"
      ]
     },
     "execution_count": 30,
     "metadata": {},
     "output_type": "execute_result"
    }
   ],
   "source": [
    "data_df.shape"
   ]
  },
  {
   "cell_type": "code",
   "execution_count": 35,
   "id": "e1b868b2-8e04-4be3-8c84-bf597ea71c62",
   "metadata": {},
   "outputs": [
    {
     "data": {
      "text/plain": [
       "Index(['prompt', 'completion', 'prompt_tokens', 'prompt_len',\n",
       "       'completion_tokens', 'completion_len'],\n",
       "      dtype='object')"
      ]
     },
     "execution_count": 35,
     "metadata": {},
     "output_type": "execute_result"
    }
   ],
   "source": [
    "data_df.columns"
   ]
  },
  {
   "cell_type": "code",
   "execution_count": 79,
   "id": "b6488639-8e9f-413c-a7bc-52179b67f9d3",
   "metadata": {},
   "outputs": [
    {
     "data": {
      "text/plain": [
       "\"Here's his gallery at Fine Art America - http://fineartamerica.com/profiles/jason-padgett.html  (aren't search engines an amazing thing! </s> )\""
      ]
     },
     "execution_count": 79,
     "metadata": {},
     "output_type": "execute_result"
    }
   ],
   "source": [
    "data_df[data_df.apply(lambda r: '</s>' in r.completion, axis=1)].completion.values[0]"
   ]
  },
  {
   "cell_type": "code",
   "execution_count": 31,
   "id": "79538ebb-76e2-43d9-95aa-a8cbb33cc3cb",
   "metadata": {},
   "outputs": [],
   "source": [
    "data_df['prompt'] = data_df.apply(lambda r: r.prompt.replace('</s>', ''), axis=1)"
   ]
  },
  {
   "cell_type": "code",
   "execution_count": 32,
   "id": "b31cb8ea-0753-4adc-b01c-9f59fcad71e7",
   "metadata": {},
   "outputs": [],
   "source": [
    "data_df['completion'] = data_df.apply(lambda r: r.completion.replace('</s>', ''), axis=1)"
   ]
  },
  {
   "cell_type": "markdown",
   "id": "ba024dd4-c349-423f-b9f9-75b2ccb4556a",
   "metadata": {},
   "source": [
    "#### Great. Now let's export this to three different JSONLs - 1k, 10k, full dataset"
   ]
  },
  {
   "cell_type": "code",
   "execution_count": 38,
   "id": "30804fa8-f4fe-4ae9-b12d-c161c0d74122",
   "metadata": {},
   "outputs": [],
   "source": [
    "import os"
   ]
  },
  {
   "cell_type": "code",
   "execution_count": 39,
   "id": "f36f8bb8-ece7-4517-9761-bf6feadb020b",
   "metadata": {},
   "outputs": [],
   "source": [
    "if not os.path.exists('fine-tuning'):\n",
    "    os.makedirs('fine-tuning')"
   ]
  },
  {
   "cell_type": "code",
   "execution_count": 33,
   "id": "2b8e5821-1ddc-4338-84c3-3c83a2d48212",
   "metadata": {},
   "outputs": [],
   "source": [
    "final_df = data_df[['prompt', 'completion']]"
   ]
  },
  {
   "cell_type": "code",
   "execution_count": 34,
   "id": "d061e098-73f8-4b46-ab52-a54774f1d6a9",
   "metadata": {},
   "outputs": [
    {
     "data": {
      "text/html": [
       "<div>\n",
       "<style scoped>\n",
       "    .dataframe tbody tr th:only-of-type {\n",
       "        vertical-align: middle;\n",
       "    }\n",
       "\n",
       "    .dataframe tbody tr th {\n",
       "        vertical-align: top;\n",
       "    }\n",
       "\n",
       "    .dataframe thead th {\n",
       "        text-align: right;\n",
       "    }\n",
       "</style>\n",
       "<table border=\"1\" class=\"dataframe\">\n",
       "  <thead>\n",
       "    <tr style=\"text-align: right;\">\n",
       "      <th></th>\n",
       "      <th>prompt</th>\n",
       "      <th>completion</th>\n",
       "    </tr>\n",
       "  </thead>\n",
       "  <tbody>\n",
       "    <tr>\n",
       "      <th>0</th>\n",
       "      <td>Write a response to the following message:\\nOn...</td>\n",
       "      <td>cancer and blood flow are very closely related...</td>\n",
       "    </tr>\n",
       "    <tr>\n",
       "      <th>1</th>\n",
       "      <td>Write a response to the following message:\\nTh...</td>\n",
       "      <td>Yeah, you basically are buying a PC-in-a-box i...</td>\n",
       "    </tr>\n",
       "    <tr>\n",
       "      <th>2</th>\n",
       "      <td>Write a response to the following message:\\nTh...</td>\n",
       "      <td>I wrote a response to your comment but it beca...</td>\n",
       "    </tr>\n",
       "    <tr>\n",
       "      <th>3</th>\n",
       "      <td>Write a response to the following message:\\nTh...</td>\n",
       "      <td>You hit the nail on the head.  For most of us,...</td>\n",
       "    </tr>\n",
       "    <tr>\n",
       "      <th>5</th>\n",
       "      <td>Write a response to the following message:\\nCa...</td>\n",
       "      <td>Right now I think you can't, unless you can ge...</td>\n",
       "    </tr>\n",
       "  </tbody>\n",
       "</table>\n",
       "</div>"
      ],
      "text/plain": [
       "                                              prompt  \\\n",
       "0  Write a response to the following message:\\nOn...   \n",
       "1  Write a response to the following message:\\nTh...   \n",
       "2  Write a response to the following message:\\nTh...   \n",
       "3  Write a response to the following message:\\nTh...   \n",
       "5  Write a response to the following message:\\nCa...   \n",
       "\n",
       "                                          completion  \n",
       "0  cancer and blood flow are very closely related...  \n",
       "1  Yeah, you basically are buying a PC-in-a-box i...  \n",
       "2  I wrote a response to your comment but it beca...  \n",
       "3  You hit the nail on the head.  For most of us,...  \n",
       "5  Right now I think you can't, unless you can ge...  "
      ]
     },
     "execution_count": 34,
     "metadata": {},
     "output_type": "execute_result"
    }
   ],
   "source": [
    "final_df.head()"
   ]
  },
  {
   "cell_type": "code",
   "execution_count": 35,
   "id": "a5d8ebd8-dfc1-4209-ad3a-93bba7e39166",
   "metadata": {},
   "outputs": [],
   "source": [
    "df_1k = final_df.sample(n=1000)"
   ]
  },
  {
   "cell_type": "code",
   "execution_count": 36,
   "id": "a62aedec-7625-4b97-bb61-d7effe990d73",
   "metadata": {},
   "outputs": [],
   "source": [
    "df_1k.to_json('fine-tuning/1k_samples_prompt.jsonl', orient='records', lines=True)"
   ]
  },
  {
   "cell_type": "code",
   "execution_count": 37,
   "id": "6f5fe64e-e07a-4051-a455-910e297a4ead",
   "metadata": {},
   "outputs": [],
   "source": [
    "df_10k = final_df.sample(n=10000)"
   ]
  },
  {
   "cell_type": "code",
   "execution_count": 38,
   "id": "4b939d51-bea2-4c6e-8736-c91ce799fb01",
   "metadata": {},
   "outputs": [],
   "source": [
    "df_10k.to_json('fine-tuning/10k_samples_prompt.jsonl', orient='records', lines=True)"
   ]
  },
  {
   "cell_type": "code",
   "execution_count": 39,
   "id": "ce192d12-8c17-4bce-bf34-afe8e786bf40",
   "metadata": {},
   "outputs": [],
   "source": [
    "final_df.to_json('fine-tuning/70k_samples_prompt.jsonl', orient='records', lines=True)"
   ]
  },
  {
   "cell_type": "code",
   "execution_count": 40,
   "id": "455246c7-600a-4d83-afe2-46393bf53a33",
   "metadata": {
    "collapsed": true,
    "jupyter": {
     "outputs_hidden": true
    },
    "tags": []
   },
   "outputs": [
    {
     "name": "stdout",
     "output_type": "stream",
     "text": [
      "{\"prompt\":\"Write a response to the following message:\\nWe live in a democracy with free speech. This means that people are permitted to go to elected officials and ask for whatever they want. It's the job of the politicians to say no.\\nIncidentally, I don't know if you realize this, but the biggest lobbyists are primarily labor unions (e.g., the NEA, who donate more money than Goldman Sachs) and professional groups (realtors, trial lawyers), not corporations.\\nhttp:\\/\\/www.opensecrets.org\\/orgs\\/list.php?order=A\",\"completion\":\"For reference, All time #6 is the NEA with $37M, #7 is Goldman with $36M.\\nIf you look at people counts, the NEA has about 3.2 million people. Goldman has about 36,000 employees. Two orders of magnitude more contribution per person.\\nAs a smaller business, their interests in the law are more targeted. And their lobbying is also very effective.\\nYou can speak freely to politicians, but getting them to listen is not free. You buy their ear with campaign contributions and you hold the hammer of future contributions as you make polite suggestions about how the law should be changed in your favor.\\nI don't think it's fair to put politicians under that pressure. There's clear evidence that our system has failed in that way and we need to change it to move forward.\"}\n",
      "{\"prompt\":\"Write a response to the following message:\\n[s]I may have misinterpreted this, but to me it seems as though all this provides is two things: 1) Netflix get some technology for free from which they can profit and 2) Netflix get to boast about using free\\/open software.\\nI think instead of a page thanking FreeBSD for software, Netflix, alongside many other large companies who use free software, could make more of an effort to actually contribute to the software proportionally to their use of it.[\\/s]\\nI apologise, clearly I had misinterpreted it and was wrong!\",\"completion\":\"Netflix does contribute quite a bit:\\nhttps:\\/\\/www.freebsdfoundation.org\\/donate\\/sponsors\\nOr search fo"
     ]
    },
    {
     "data": {
      "text/plain": [
       "0"
      ]
     },
     "execution_count": 40,
     "metadata": {},
     "output_type": "execute_result"
    },
    {
     "name": "stdout",
     "output_type": "stream",
     "text": [
      "r \\\"Sponsored by: Netflix\\\" in the commit messages.\"}\n",
      "{\"prompt\":\"Write a response to the following message:\\nImagine if the US hacked into the Chinese data repository on their citizens?\\nImagine if the US hacked into the Russian data repository on their citizens?\\nI'm sure it's already happened, and I'm sure it is not a huge coincidence that Google and Facebook are not the biggest search \\/ social networking companies in those countries.\\nNo idea about the others mentioned.\\nOh and what about if those countries respective agencies have an agreement to share certain data amongst each other to make things a little easier?\",\"completion\":\"> Imagine if the US hacked into the Chinese data repository on their citizens?\\n> Imagine if the US hacked into the Russian data repository on their citizens?\\n\\\"Your copying all of my private data from several sources to the nsa, what is another country hacks that and copy it ?\\\"\\n\\\"No worry, we can hack them and copy their citizens data too\\\"\\nI fail to see how to answer the concern for the question, or how that should be reassuring in anyway. That we can, or cannot, or already do similar data repository in other countries is irrelevant to the question \\\"should all of my data be aggregated in a single juicy store\\\".\\nI'm not even sure I agree with OP's premises (especially since I'm an European, for me the NSA thing is a foreign governement spying on me and I expect the EU new data privacy laws to be much more strict than the safe harbor joke we've had so far), but your answer doesn't address it at all.\"}\n",
      "{\"prompt\":\"Write a response to the following message:\\nThis is great news for UK businesses, welcome to our wonderfully miserably cold shores Stripe.\\nAlthough, you know it's much nicer up North outside London. Much nicer.\",\"completion\":\"The founders are from Ireland, they know miserable cold shores!\"}\n",
      "{\"prompt\":\"Write a response to the following message:\\nI sometimes wonder if the Valley culture doesn't socially construct some of the startup pathologies.  For example, startups taking over your life: why does this happen?  Is this because startups take over your life and nothing can be done about this?  I am skeptical of this: I run a small business, the time demands are rather modest, and I live a life outside of work.  I'm surely not uniquely in a position to do this.\\nNow, step back: who here wants to say any variant of \\\"That isn't the same thing!\\\", \\\"That isn't possible!\\\", or \\\"You are insufficiently dedicated and will never be truly successful!\\\"  You see, that is why startups take over your life: because you expect them to take over your life, everyone you know and talk to and model your behavior on expects them to take over your life, and if they're not taking over your life you are told you are doing something wrong.\",\"completion\":\"Jobs in many, if not most professions commonly will \\\"take over your life\\\" if you let them. In many cases it is expected.\"}\n",
      "{\"prompt\":\"Write a response to the following message:\\nMany years ago the number one page layout program was Quark Xpress. The company decided to save money by firing all their employees who developed the program and were familiar with the code base and save money by outsourcing all development to a code team overseas who was not familiar with page layout software or the Mac platform Quark ran on. This outsourcing team would appear on development boards asking extremely simple questions about coding. An OS X compatible version of the program was delayed for so many years that they lost almost all their customer base to Adobe.\\nAdobe in the last 5 years has now let go many of the core developers of their critical products and outsourced their key products to development teams overseas who were not familiar with the product or the fields of graphic design and illustration.\\nWhat we see now is the predictable result of getting rid of the people who are familiar with the code base, under the theory that developers are interchangeable so one should get the least expensive one.\\nWhat is the correct way to do this? The original designers that have the product vision and have created the architecture that supports the market winning product should have been mentoring the next generation of developers at the company on site. This is a practice of apprenticeship which takes a few years. This is what is needed to transfer the knowledge and philosophy of design for which the company is known.\",\"completion\":\"I remember that so well! Adobe was brilliant: They gave away InDesign for next to nothing -- made it THE upgrade path to their PageMaker users and owned the market. My understanding was that Quark was a private company so they never had the cash to go after Adobe, also unlike Adobe they were a one product company (and their multimedia offering was terrible).\"}\n",
      "{\"prompt\":\"Write a response to the following message:\\nI agree with you to some degree. Higher order functions should be used wherever possible and there should be some alternatives to LOOP for the common cases such as iterating over a range of numbers. It is much easier to understand patterns when they are built into the language than when they are written out using LOOP.\\nThe thing is LOOP is very good at creating ad hoc kinds of loops. Say you are writing a loop to do password validation. Repeat at most N times and then lock the account or go through once a correct password is entered. That kind of iteration is too specific for pretty much any kind of looping construct besides LOOP.\\nAs I see it, LOOP is not about creating \\\"one macro to rule them all\\\", it's about creating a macro that's a catch-all. One that you can always use when nothing else quite describes what you want.\\nI'm just thinking out loud.\",\"completion\":\"I would probably use DO for the password validation example.  It's strange to me that people think of DO as complicated; there is a little complexity there, to be sure, but much less than for LOOP.  Once you understand that the inits and updates are done in parallel, and you get where the exit test goes, you've got it; there are no more rules to learn.\\nI understand that LOOP seems simple in simple cases, but that simplicity is evidently deceptive, as attested by the comments I was replying to.\"}\n",
      "{\"prompt\":\"Write a response to the following message:\\nOh, wow, 1000x this article. Forget about the crying thing, which makes it vivid and more interesting to read but might obscure the fundamental point, which is that interviews make people incredibly uncomfortable. Some of the calmest, most unflappable people I work with shook visibly in their interviews with us.\\nWhat's important about that is: you are not getting an accurate read of a candidate's state of mind in a high-stakes interview. I think you have just a couple of options to improve your accuracy given that fact:\\n* You can take deliberate steps to lower the stakes in your interview process by changing the kinds of transactions that happen in the interview (for instance, by constructing interviews that involve collaborating on a problem instead of challenging the candidate).\\n* You can \\\"discount\\\" the signals you get from the interview, particular w\\/r\\/t already nebulous concepts like \\\"confidence\\\", \\\"social skill\\\", \\\"enthusiasm\\\", and the dreaded \\\"culture fit\\\".\\n* You can push more of the recruiting process into situations where the candidate controls their environment (for instance, by doing stuff at home, and on a fixed but flexible time scale) and less on in-person timeboxed interviews.\\nI'd love more ideas. We're trying all three, but it's a lather-rinse-repeat kind of situation. I'm getting good, I think, at spotting signals that are probably the result of jitters. And I think I've learned pretty conclusively that those jitters have zero correlation to on-the-job performance. But I have so much more to learn.\",\"completion\":\"> You can take deliberate steps to lower the stakes in your interview process by changing the kinds of transactions that happen in the interview (for instance, by constructing interviews that involve collaborating on a problem instead of challenging the candidate).\\nIf you want to evaluate all candidates on a level playing field, this can be really hard to pull off.\\nI work in the defense sector. We have some pretty strict guidelines on how we're supposed to evaluate people. Because of those guidelines, we often try to give each batch of candidates the same general set of questions\\/challenges, etc. We do try to be collaborative during our interviews, but it's really tough to collaborate without leading when you've worked a particular problem 1,000 times.\\nFurther, even when you do this well, the candidate often interprets your help as their failure. \\\"Oh crap, he pointed me in a different direction, he must think I'm an idiot.\\\"\\n> You can push more of the recruiting process into situations where the candidate controls their environment (for instance, by doing stuff at home, and on a fixed but flexible time scale) and less on in-person timeboxed interviews.\\nI think this is really key to our success. Our interview focuses on two programming problems which require you to interpret imperfect requirements, ask questions if you deem it necessary, provide an estimate of when you think you'll complete your work, code\\/document\\/test two full applications (one per problem). We ask the candidate to do this well before the interview, on their own time. Typically we don't discount for how long it takes a candidate to complete their work. I've had awful submissions which took someone 40 hours, and excellent submissions which took someone 4 hours, and vice versa.\"}\n",
      "{\"prompt\":\"Write a response to the following message:\\nHow is that even a possibility while Google is currently under anti-trust investigation on the premise of being a virtual monopoly?\\nA cynical person may think this is ploy to raise stock interest so you could ditch any stock you are stuck with...\",\"completion\":\"There's no chance the Gov would allow them to merge. They're just doing it to drive up the price for Microsoft.\"}\n",
      "{\"prompt\":\"Write a response to the following message:\\nLinux doesn't have a tradition of downloading and installing random software, though, so there would be a bigger behavioral hurdle to get users to install the malware.\",\"completion\":\"The tradition was there, and it sucked.\\nHunting the Internet to track down random dependencies, watching freshmeat.net every day for new releases, and fighting with all of the different build systems was what I did every day ca. 1997.\"}\n"
     ]
    }
   ],
   "source": [
    "os.system('head fine-tuning/1k_samples_prompt.jsonl')"
   ]
  }
 ],
 "metadata": {
  "kernelspec": {
   "display_name": "Python 3 (ipykernel)",
   "language": "python",
   "name": "python3"
  },
  "language_info": {
   "codemirror_mode": {
    "name": "ipython",
    "version": 3
   },
   "file_extension": ".py",
   "mimetype": "text/x-python",
   "name": "python",
   "nbconvert_exporter": "python",
   "pygments_lexer": "ipython3",
   "version": "3.9.16"
  }
 },
 "nbformat": 4,
 "nbformat_minor": 5
}
