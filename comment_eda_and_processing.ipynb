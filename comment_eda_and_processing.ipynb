{
 "cells": [
  {
   "cell_type": "code",
   "execution_count": 1,
   "id": "d66021fb-adf8-4514-85d7-32ad544bc08c",
   "metadata": {},
   "outputs": [],
   "source": [
    "import pandas as pd"
   ]
  },
  {
   "cell_type": "code",
   "execution_count": 2,
   "id": "847a3970-37c4-47f5-9525-8b0107394420",
   "metadata": {},
   "outputs": [],
   "source": [
    "df = pd.read_csv('hn-comments.csv')"
   ]
  },
  {
   "cell_type": "code",
   "execution_count": 3,
   "id": "ade5fbd6-9bd7-4b2d-8ad0-4b732d18955e",
   "metadata": {},
   "outputs": [
    {
     "data": {
      "text/html": [
       "<div>\n",
       "<style scoped>\n",
       "    .dataframe tbody tr th:only-of-type {\n",
       "        vertical-align: middle;\n",
       "    }\n",
       "\n",
       "    .dataframe tbody tr th {\n",
       "        vertical-align: top;\n",
       "    }\n",
       "\n",
       "    .dataframe thead th {\n",
       "        text-align: right;\n",
       "    }\n",
       "</style>\n",
       "<table border=\"1\" class=\"dataframe\">\n",
       "  <thead>\n",
       "    <tr style=\"text-align: right;\">\n",
       "      <th></th>\n",
       "      <th>id</th>\n",
       "      <th>author</th>\n",
       "      <th>text</th>\n",
       "      <th>ranking</th>\n",
       "      <th>parent</th>\n",
       "      <th>id_1</th>\n",
       "      <th>author_1</th>\n",
       "      <th>text_1</th>\n",
       "      <th>ranking_1</th>\n",
       "      <th>parent_1</th>\n",
       "    </tr>\n",
       "  </thead>\n",
       "  <tbody>\n",
       "    <tr>\n",
       "      <th>0</th>\n",
       "      <td>6631159</td>\n",
       "      <td>bra-ket</td>\n",
       "      <td>cancer and blood flow are very closely related...</td>\n",
       "      <td>7</td>\n",
       "      <td>6630604</td>\n",
       "      <td>6630604</td>\n",
       "      <td>pg</td>\n",
       "      <td>One interesting thing I learned from this is h...</td>\n",
       "      <td>0</td>\n",
       "      <td>6630535</td>\n",
       "    </tr>\n",
       "    <tr>\n",
       "      <th>1</th>\n",
       "      <td>9663819</td>\n",
       "      <td>fweespeech</td>\n",
       "      <td>Yeah, you basically are buying a PC-in-a-box i...</td>\n",
       "      <td>10</td>\n",
       "      <td>9663694</td>\n",
       "      <td>9663694</td>\n",
       "      <td>cwyers</td>\n",
       "      <td>The low-end Alienware box has specs that don&amp;#...</td>\n",
       "      <td>0</td>\n",
       "      <td>9663421</td>\n",
       "    </tr>\n",
       "    <tr>\n",
       "      <th>2</th>\n",
       "      <td>6437543</td>\n",
       "      <td>mortdeus</td>\n",
       "      <td>I wrote a response to your comment but it beca...</td>\n",
       "      <td>25</td>\n",
       "      <td>6432425</td>\n",
       "      <td>6432425</td>\n",
       "      <td>rkalla</td>\n",
       "      <td>This is effectively the software-only equivale...</td>\n",
       "      <td>0</td>\n",
       "      <td>6432306</td>\n",
       "    </tr>\n",
       "    <tr>\n",
       "      <th>3</th>\n",
       "      <td>6705317</td>\n",
       "      <td>mathattack</td>\n",
       "      <td>You hit the nail on the head.  For most of us,...</td>\n",
       "      <td>8</td>\n",
       "      <td>6703068</td>\n",
       "      <td>6703068</td>\n",
       "      <td>dsrguru</td>\n",
       "      <td>This article is both accurate and highly misle...</td>\n",
       "      <td>0</td>\n",
       "      <td>6702790</td>\n",
       "    </tr>\n",
       "    <tr>\n",
       "      <th>4</th>\n",
       "      <td>7800056</td>\n",
       "      <td>blablabla123</td>\n",
       "      <td>Reminds me of Ruby, IMHO the version jump from...</td>\n",
       "      <td>7</td>\n",
       "      <td>7799923</td>\n",
       "      <td>7799923</td>\n",
       "      <td>illumen</td>\n",
       "      <td>I doubt the lazy people who haven&amp;#x27;t moved...</td>\n",
       "      <td>0</td>\n",
       "      <td>7799524</td>\n",
       "    </tr>\n",
       "  </tbody>\n",
       "</table>\n",
       "</div>"
      ],
      "text/plain": [
       "        id        author                                               text  \\\n",
       "0  6631159       bra-ket  cancer and blood flow are very closely related...   \n",
       "1  9663819    fweespeech  Yeah, you basically are buying a PC-in-a-box i...   \n",
       "2  6437543      mortdeus  I wrote a response to your comment but it beca...   \n",
       "3  6705317    mathattack  You hit the nail on the head.  For most of us,...   \n",
       "4  7800056  blablabla123  Reminds me of Ruby, IMHO the version jump from...   \n",
       "\n",
       "   ranking   parent     id_1 author_1  \\\n",
       "0        7  6630604  6630604       pg   \n",
       "1       10  9663694  9663694   cwyers   \n",
       "2       25  6432425  6432425   rkalla   \n",
       "3        8  6703068  6703068  dsrguru   \n",
       "4        7  7799923  7799923  illumen   \n",
       "\n",
       "                                              text_1  ranking_1  parent_1  \n",
       "0  One interesting thing I learned from this is h...          0   6630535  \n",
       "1  The low-end Alienware box has specs that don&#...          0   9663421  \n",
       "2  This is effectively the software-only equivale...          0   6432306  \n",
       "3  This article is both accurate and highly misle...          0   6702790  \n",
       "4  I doubt the lazy people who haven&#x27;t moved...          0   7799524  "
      ]
     },
     "execution_count": 3,
     "metadata": {},
     "output_type": "execute_result"
    }
   ],
   "source": [
    "df.head()"
   ]
  },
  {
   "cell_type": "code",
   "execution_count": 11,
   "id": "99f8709c-4d4e-425f-818f-e2755e610718",
   "metadata": {},
   "outputs": [],
   "source": [
    "import html"
   ]
  },
  {
   "cell_type": "code",
   "execution_count": 12,
   "id": "ae608b24-2d21-4a19-9ffa-e0691da758c6",
   "metadata": {},
   "outputs": [
    {
     "data": {
      "text/plain": [
       "'cancer and blood flow are very closely related: <a href=\"http://en.wikipedia.org/wiki/Angiogenesis\" rel=\"nofollow\">http://en.wikipedia.org/wiki/Angiogenesis</a>'"
      ]
     },
     "execution_count": 12,
     "metadata": {},
     "output_type": "execute_result"
    }
   ],
   "source": [
    "html.unescape(df.iloc[0].text)"
   ]
  },
  {
   "cell_type": "code",
   "execution_count": 19,
   "id": "75e5b8a4-d175-4aac-a624-c1d93d344777",
   "metadata": {},
   "outputs": [],
   "source": [
    "res = html.unescape(df.iloc[4].text_1)"
   ]
  },
  {
   "cell_type": "code",
   "execution_count": 23,
   "id": "4df189e4-e6a8-4f08-bfce-cb885e9c81f9",
   "metadata": {},
   "outputs": [
    {
     "name": "stdout",
     "output_type": "stream",
     "text": [
      "prompt: Out of curiosity, why doesn't she update her ID?\n",
      "completion: She's a newlywed. It will get updated in time.\n",
      "prompt: THEY are being repressed, not only their predecessors. And to \"hire the most qualified person\" \"denies the role of personal connections, wealth, background, gender, race, or education in an individual's success\"[1]. It is overly simplistic to just say \"hire the qualified person\" when the person is qualified due to a huge amount of historical advantages. Do you really think there are so few women in tech because all the men are just more qualified?<p><a href=\"http://www.npr.org/blogs/alltechconsidered/2014/02/06/272646267/how-the-meritocracy-myth-affects-women-in-technology\" rel=\"nofollow\">http://www.npr.org/blogs/alltechconsidered/2014/02/06/272646...</a>\n",
      "completion: The right thing then would be to enable such individuals with disadvantages to become qualified. \n",
      "We can go on and on about how it is a vicious circle and all that, but IMHO, the remedy is not providing opportunities to less qualified people, but take measures to educate and make them competent. Relavant initiative [1] [2]<p>[1]. <a href=\"https://developers.google.com/women-techmakers/\" rel=\"nofollow\">https://developers.google.com/women-techmakers/</a>\n",
      "[2]. <a href=\"http://www.google.com/diversity/for-the-future.html#research-around-girls-and-computer-science\" rel=\"nofollow\">http://www.google.com/diversity/for-the-future.html#research...</a>\n",
      "prompt: You agreed to their terms and conditions upon sign up. It says:<p>\"We may, without prior notice, change the Service;\"\n",
      "completion: And my terms of service read 'and if you change your terms of service in a way that I don't like I will disable your plug-in and I'll bitch about it'.\n",
      "prompt: They are based in the US, so I think that the amount of their users that use a French keyboard layout is quite small.\n",
      "completion: This also works with \"qwerty\" (i thought something was wrong the first time, but couldn't find what, thanks !)\n",
      "prompt: Words of a late 19th century poet.<p>The way people quote it, you'd think it was straight out of the Constitution or Declaration of Independence or something.  The fact that the poem was written <i>after</i> the Chinese Exclusion Act was written makes it something of a farce, IMHO.\n",
      "completion: The words stand on their own, but the broad application of those words is certainly an ideal, and not a true reflection of this country's varied immigration policies towards various ethnic groups over its shortish history.\n",
      "prompt: I guess I am unclear why their affair would warent Petraeus's resignation. People have affairs. Was there a significant conflict of interest regarding their affair? If not, I don't understand how this is news worthy?\n",
      "completion: <p><pre><code>    Days after Petraeus' resignation stunned Washington,\n",
      "    information continues to emerge. Among other things, a\n",
      "    video has surfaced of a speech by Petraeus' paramour in\n",
      "    which she suggested the Libya attack was targeting a\n",
      "    secret prison at the Benghazi consulate annex, raising\n",
      "    unverified concerns about possible security leaks.\n",
      "</code></pre>\n",
      "<a href=\"http://www.cnn.com/2012/11/12/us/petraeus-cia-resignation/index.html\" rel=\"nofollow\">http://www.cnn.com/2012/11/12/us/petraeus-cia-resignation/in...</a><p>The affair by itself should've had no impact. In fact, you can find tons of articles from today that talk about how Petraeus had every intention of staying on the job. However, once you get into the realm of 'what classified information did he spill in pillow talk?', then resignation seems like the least he should have to do.<p>Broadwell is lawyering up[1], and I bet that Petraeus does the same in the next days or weeks. There are going to be some serious criminal liability issues over improperly disclosed national security information.<p>[1] <a href=\"http://www.abajournal.com/news/article/paula_broadwell_lawyers_up/\" rel=\"nofollow\">http://www.abajournal.com/news/article/paula_broadwell_lawye...</a>\n",
      "prompt: I have to say, it all sounds a bit thin - but even then, I would think you deserve the effort of a reply to your situation.<p>If you are able to provide genuine valuable content to users through an integrated API service (no matter who the provider of that API is), Google should place high 'content' value on that as well.  After all, Google wants the web to be of 'value' to users, which in the grand internet cycle, brings them money through Adwords, etc.<p>It <i>could</i> be all coincidence.  In order to clear it up, it makes sense that open, honest communication between Google and you (Ron) starts again.<p>Best of luck - I certainly hope it can be cleared up, as I hate to think of the potential business ideas (and revenue!) that will be discarded if developers feel they can't trust Google and its services.\n",
      "completion: \"Not trusting Google\" seems to be a theme on the internet lately.<p>Presumably Google, being no fools, will pick up on that and understand that it's a problem, both for advertisers and developers.<p>It's just a question of how long it takes them.<p>It's entirely possible that many of these situations with Google looking bad are primarily a result of them just not communicating.  But presumably Google could figure that out, too.  They're the only ones with the information to do so.\n",
      "prompt: Oh sure, my wing is a hardcore nerd who's been with over 250 girls. He actually has an Excel for past 5 years charting his \"lays\" per month. Note that this is not typical and I would personally never go to the extreme that he is at.<p>For me, I know if I talk to 8 random girls on the street on average I will score one date. It is normal for me to get 2-3 dates over the course of a weekend.\n",
      "completion: One day you'll grow up.\n",
      "prompt: Can you describe the differences in product management positions at Google? Which ones are technical and non-technical?\n",
      "completion: In general, our product managers are technical -- almost all have a computer science degree, many have worked as engineers. When going through the initial interviews you are usually not interviewing for a particular position, but rather as a \"generalist.\"<p>After the hiring committee has decided whether or not to hire you, your specific background will be matched with specific openings around Google. Naturally, some products require less technical expertise than others.\n",
      "prompt: Yes they can, and so can law enforcement. This meme is dangerously misleading.<p>All this says is that when the Agencies could previously tap cell phone communications without involving Apple, it would capture SMS. iPhones deliberately abstract whether SMS or \"iMessage\" is being used, so as a result, many \"text messages\" get routed through that service over a data connection. This means that all these messages are simply going through a channel that AT&T/Verizon/Sprint etc taps provide, and so they do not have visibility into them through <i>those specific systems</i>.<p>They can still get them from Apple directly, and Apple can read them.\n",
      "completion: \"They can still get them from Apple directly, and Apple can read them.*<p>That's a direct lie from Apple, if you are right. Any proof? What about end-to-end encryption?\n"
     ]
    }
   ],
   "source": [
    "rand_samps = df[['text', 'text_1']].sample(n=10)\n",
    "\n",
    "for _, val in rand_samps.iterrows():\n",
    "    print(f\"prompt: {html.unescape(val.text_1)}\")\n",
    "    print(f\"completion: {html.unescape(val.text)}\")"
   ]
  },
  {
   "cell_type": "code",
   "execution_count": 25,
   "id": "b44f814e-0de7-4f5c-9ce5-818576567b79",
   "metadata": {},
   "outputs": [
    {
     "data": {
      "text/plain": [
       "'Yes they can, and so can law enforcement. This meme is dangerously misleading.<p>All this says is that when the Agencies could previously tap cell phone communications without involving Apple, it would capture SMS. iPhones deliberately abstract whether SMS or \"iMessage\" is being used, so as a result, many \"text messages\" get routed through that service over a data connection. This means that all these messages are simply going through a channel that AT&T/Verizon/Sprint etc taps provide, and so they do not have visibility into them through <i>those specific systems</i>.<p>They can still get them from Apple directly, and Apple can read them.'"
      ]
     },
     "execution_count": 25,
     "metadata": {},
     "output_type": "execute_result"
    }
   ],
   "source": [
    "html.unescape(val.text_1)"
   ]
  },
  {
   "cell_type": "markdown",
   "id": "bb57b639-6da4-4334-890b-d2e3e7889944",
   "metadata": {},
   "source": [
    "If I'm being realistic here, I'd replace the `<p>` tags with `\\n` and then use bs to unescape"
   ]
  },
  {
   "cell_type": "code",
   "execution_count": 26,
   "id": "1bb3e2f1-558a-4229-869f-b64f1d4117e5",
   "metadata": {},
   "outputs": [],
   "source": [
    "from bs4 import BeautifulSoup"
   ]
  },
  {
   "cell_type": "code",
   "execution_count": 29,
   "id": "ec1d334f-5493-4971-b91b-7510061b93ad",
   "metadata": {},
   "outputs": [
    {
     "data": {
      "text/plain": [
       "'Yes they can, and so can law enforcement. This meme is dangerously misleading.\\nAll this says is that when the Agencies could previously tap cell phone communications without involving Apple, it would capture SMS. iPhones deliberately abstract whether SMS or &quot;iMessage&quot; is being used, so as a result, many &quot;text messages&quot; get routed through that service over a data connection. This means that all these messages are simply going through a channel that AT&amp;T&#x2F;Verizon&#x2F;Sprint etc taps provide, and so they do not have visibility into them through <i>those specific systems</i>.\\nThey can still get them from Apple directly, and Apple can read them.'"
      ]
     },
     "execution_count": 29,
     "metadata": {},
     "output_type": "execute_result"
    }
   ],
   "source": [
    "val.text_1.replace('<p>', '\\n')"
   ]
  },
  {
   "cell_type": "code",
   "execution_count": 30,
   "id": "a1c95121-b24b-4d79-be16-25daa6eeb85d",
   "metadata": {},
   "outputs": [
    {
     "data": {
      "text/plain": [
       "'Yes they can, and so can law enforcement. This meme is dangerously misleading.\\nAll this says is that when the Agencies could previously tap cell phone communications without involving Apple, it would capture SMS. iPhones deliberately abstract whether SMS or \"iMessage\" is being used, so as a result, many \"text messages\" get routed through that service over a data connection. This means that all these messages are simply going through a channel that AT&T/Verizon/Sprint etc taps provide, and so they do not have visibility into them through those specific systems.\\nThey can still get them from Apple directly, and Apple can read them.'"
      ]
     },
     "execution_count": 30,
     "metadata": {},
     "output_type": "execute_result"
    }
   ],
   "source": [
    "BeautifulSoup(val.text_1.replace('<p>', '\\n')).get_text()"
   ]
  },
  {
   "cell_type": "code",
   "execution_count": 34,
   "id": "ad33fbe8-c598-4503-bd0b-a508fcde71e0",
   "metadata": {},
   "outputs": [
    {
     "data": {
      "text/plain": [
       "'The right thing then would be to enable such individuals with disadvantages to become qualified. \\nWe can go on and on about how it is a vicious circle and all that, but IMHO, the remedy is not providing opportunities to less qualified people, but take measures to educate and make them competent. Relavant initiative [1] [2]\\n[1]. https://developers.google.com/women-techmakers/\\n[2]. http://www.google.com/diversity/for-the-future.html#research...'"
      ]
     },
     "execution_count": 34,
     "metadata": {},
     "output_type": "execute_result"
    }
   ],
   "source": [
    "BeautifulSoup(rand_samps.iloc[1].text.replace('<p>', '\\n')).get_text()"
   ]
  },
  {
   "cell_type": "markdown",
   "id": "a3e0622c-76ad-4611-8497-adf12b7e3eca",
   "metadata": {},
   "source": [
    "Cool. This is indeed what we want. "
   ]
  },
  {
   "cell_type": "code",
   "execution_count": 37,
   "id": "8d9719ea-5359-4808-94d0-c6d7fce0e584",
   "metadata": {},
   "outputs": [
    {
     "name": "stderr",
     "output_type": "stream",
     "text": [
      "/var/folders/0q/132d4mqx32z7hhp3qh_g3vrm0000gn/T/ipykernel_40906/2469649878.py:1: MarkupResemblesLocatorWarning: The input looks more like a filename than markup. You may want to open this file and pass the filehandle into Beautiful Soup.\n",
      "  df['prompt'] = df.apply(lambda r: BeautifulSoup(str(r.text_1).replace('<p>', '\\n')).get_text(), axis=1)\n",
      "/var/folders/0q/132d4mqx32z7hhp3qh_g3vrm0000gn/T/ipykernel_40906/2469649878.py:1: MarkupResemblesLocatorWarning: The input looks more like a URL than markup. You may want to use an HTTP client like requests to get the document behind the URL, and feed that document to Beautiful Soup.\n",
      "  df['prompt'] = df.apply(lambda r: BeautifulSoup(str(r.text_1).replace('<p>', '\\n')).get_text(), axis=1)\n"
     ]
    }
   ],
   "source": [
    "df['prompt'] = df.apply(lambda r: BeautifulSoup(str(r.text_1).replace('<p>', '\\n')).get_text(), axis=1)"
   ]
  },
  {
   "cell_type": "code",
   "execution_count": 40,
   "id": "2e70d5b0-f5f0-4d94-9fe4-8bc96978a50f",
   "metadata": {
    "collapsed": true,
    "jupyter": {
     "outputs_hidden": true
    },
    "tags": []
   },
   "outputs": [
    {
     "name": "stdout",
     "output_type": "stream",
     "text": [
      "Wow, maybe I should look at other parts of CO?  I just looked on zillow and saw some properties for sale in the mountains to the west, but they all seemed to be 1.5+ hours from Boulder.  (even though they were less than 30 miles)  I didn't see anything closer in my price range.\n",
      "___\n",
      "I wonder how much the stability of the URL influences this sort of editing.  If traffic is coming in via a site such as reddit, a new article with a new URL might not get as much traffic as an edited version of the original article.\n",
      "___\n",
      "The fee goes to the miner who happens to find the containing block, yes. But not to the thousands of validating nodes integral to the network. And over time fees are given proportional to hashpower... which doesn't make any kind of sense. The incentives are all messed up.\n",
      "___\n",
      "But ... it's just _fun_. Who cares about the rewards, I want _fun_ and I want it NOW.\n",
      "A steady job just can't give you that. And to top it all off, it can't give you the possibility of a big reward either. lose-lose\n",
      "edit: that is to say, a big reward that somebody gives you, isn't a reward at all, you're supposed to go get it yourself\n",
      "___\n",
      "Suggestion:  After you have a reasonable facsimile of a working log for pilots (if you choose to go this route), consider generalizing/expanding for scuba divers - Same kind of honor-system log-book for dives performed.  I would imagine there are other disciplines that would benefit, as well...\n",
      "___\n",
      "Looks like that is true:\n",
      "http://en.wikipedia.org/wiki/Carl_Zeiss_Planar_50mm_f/0.7\n",
      "___\n",
      "You will see that a few people ask: why care in the face of such impressive native code compilers: Steel Bank, Clozure, and Embedded (although maybe ECL is short for something else; ironically they also needed a new maintainer as the previous guy became busy): porting and bootstrapping.\n",
      "https://www.common-lisp.net/~bmastenbrook/new-sbcl/porting.h...\n",
      "With CLISP that worked on ARM, I am not sure how much slower it would have been to port SBCL to ARM architectures, which is less <1 year of usable, even though CCL had it for years (and why I started compiling CCL using the AUR mechanism on Arch Linux prior to using SBCL in the official repos, for later playing with RPi stuff).\n",
      "So, thanks for the awesome Lisp, and thanks to you guys specifically because it is niche and thankless with so many jokes about the Lisp/CL community.  Even on HN, you can hear the mumbling when people post Lisp articles.\n",
      "(hail (clisp))\n",
      "___\n",
      "Technical debt is a major red flag especially in a savvy organization that realizes it's accumulating it. Especially if much of the early success relied on it.\n",
      "I was talking with a prospective client that had spent the past three years rushing a SaaS solution to market. They even referenced the technical debt as an area they need help with overcoming as they move forward.\n",
      "Second order change is difficult for any organization or established project, but remaining consistent with your message can drive the process in that direction. Sounds like a challenge for the two of you, but try to bring solutions / recommendations instead of minor resistance that might get misinterpreted. Not easy I know.\n",
      "___\n",
      "eval() isn't quite the same. It's unsafe for starters: it permits any JS code, not just JSON.\n",
      "But JavaScript has the JSON object offering a high-quality, high-performance parser (JSON.parse) and serialiser (JSON.stringify).\n",
      "___\n",
      "My sense is that the Osprey is pretty complex due to it's VTOL features. I don't quite see how this is any less complicated, I wonder how reliably this could be made to operate.\n",
      "___\n",
      "Except for there is a time window for these sorts of things.\n",
      "His girlfriend isn't going to be able to dispute charges that are 8-months old.\n",
      "___\n",
      "Quick explanation of what exactly this is:\n",
      "It's a rule change regarding asset-backed securities.  ABS are a type of bond where the interest and principal payments come from the cashflows of some pool of underlying assets.  The simplest example is the now-infamous mortgage-backed security: a bunch of mortgages are put into a pool, and each month the homeowner's payments are passed through to the mortgage-backed securities holder (with some amount taken off the top to cover the cost of collecting, processing, and insuring payments).\n",
      "There are many generalizations of this concept.  There's no reason the underlying asset has to be mortgages.  It could be auto loans, credit card receivables, student loans, whatever.  And there's no reason that the cashflows have to be passed straight through to the bondholders.  This is where Python comes in.\n",
      "There are a number of complicated rules you can define.  For example, let's suppose I have $100mm of assets.  Rather than just having $100mm in bonds on the other side, I can define two pieces, or tranches.  Tranche A is $80mm and gets paid first; the $20mm Tranche B gets paid next.  So if some assets don't perform and the $100mm face value only turns out to yield $90mm, the investors in A are completely unaffected.  This method is helpful because it can create a safe asset out of a pool of generally unsafe assets.\n",
      "Another possible rule would be again to define two tranches, A and B.  Each month, A and B receive the full interest payments on the $100mm assets.  But A gets the first $50mm in principal, and B only starts getting paid principal when A is completely paid off.  That way, tranche A has a shorter average life than the underlying pool of assets, and tranche B has a longer average life.  This is helpful because some investors might want to buy short-term assets, but others might want to buy long-term assets.\n",
      "You can define a hugely complex range of rules, depending on the purpose of the investment and the type of underlying asset.  From what I can tell (I obviously haven't read the whole document), the SEC is proposing to require ABS issuers to specify these rules in Python, and to specify the underlying asset pool in an XML format.  This will make it easier for independent investors to analyze the securities on their own, without having to let the now-discredited rating agencies do their work for them.\n",
      "In general, sounds like a great rule to me.\n",
      "___\n",
      "First, as a prediction, it cannot be a 'lie'. Second, it's a prediction that actually makes sense. If menial jobs are reduced - the only way to earn money will be to perform less trivial tasks, or, to put it another way, 'more creative, skilled tasks'. It's either that or we're all going down the drain. Which option do you think is more likely?\n",
      "___\n",
      "Clickable link - https://www.kickstarter.com/projects/itisonyou/forget-passwo...\n",
      "Side note, this may have been better as \"Show HN\" link submission.\n",
      "___\n",
      "what's the license behind this? can I fork it to create my own spin on it or contribute to this project?\n",
      "___\n",
      "I'm not sure I get it. Is Google supposed to get everything right on their first try? It seems many people would say yes, even many users of HackerNews. This is very counter to my understanding of the philosophies shared around here. I always thought it was best to push an new idea out there as fast as you can and iterate as you go. Granted Google's mistake is a BIG mistake, but condemning them for one act is somewhat irrational, no?\n",
      "___\n",
      "Most people aren't that kind of openly hostile extreme asshole. But I left HN for 18 months in part because it was clear to me that being a \"prominent\" (by karma score) female was a problem for me. And HN has been an extremely poor networking opportunity for me. I have mostly kept my mouth shut about how negative my experience here was for a time because I did not feel that would help me. I felt it would just make my situation worse.\n",
      "Given that I am homeless in part because of my inability to effectively network and turn my online projects into an income stream, I feel very strongly that you don't have to threaten rape or murder to quietly and politely do egregious harm to a woman's life.\n",
      "Anyway, time for me to go to lunch. Later.\n",
      "___\n",
      "Being sorry that somebody else felt bad is the beginning of an apology. But it's not the end of one. You can't just say to yourself, \"Well now I'll never make somebody feel bad again. Problem solved!\"\n",
      "When you fuck up and hurt someone, people don't want just to hear about you feeling bad. That's making it about your pain instead of theirs. It's asking for people to pat you on the head and tell you it's all ok. That's kinda weak.\n",
      "They want to hear what you've learned, and why this won't be a problem again.\n",
      "___\n",
      "Backup is about having several copies. If you delete files after you uploaded them to the cloud, you don't have a backup - with all the problems that come with it (say, if you delete a file by accident there will probably be no way to restore it).\n",
      "If your files are important to you - you need a back up. If not - just get rid of them in the name of simplicity :)\n",
      "PS. Also, uploading many gigabytes over a typical ADSL connection is just painfully slow... even local NAS is too slow over WiFi for my taste, and if I have to have a wire - I can just as well connect an external drive.\n",
      "___\n",
      "Don't most detectives come from the ranks of ordinary cops? Don't we want our detectives to be extremely intelligent?\n",
      "I'm friends with quite a few police offers and detectives, and the fact that they are all extremely intelligent doesn't seem to affect their interest in the job at all.\n",
      "___\n"
     ]
    }
   ],
   "source": [
    "for val in df.prompt.sample(n=20):\n",
    "    print(val)\n",
    "    print('___')"
   ]
  },
  {
   "cell_type": "code",
   "execution_count": 42,
   "id": "a29c52c2-6389-4f0c-92b4-e1181eccc410",
   "metadata": {},
   "outputs": [
    {
     "name": "stderr",
     "output_type": "stream",
     "text": [
      "/var/folders/0q/132d4mqx32z7hhp3qh_g3vrm0000gn/T/ipykernel_40906/211836400.py:1: MarkupResemblesLocatorWarning: The input looks more like a filename than markup. You may want to open this file and pass the filehandle into Beautiful Soup.\n",
      "  df['completion'] = df.apply(lambda r: BeautifulSoup(str(r.text).replace('<p>', '\\n')).get_text(), axis=1)\n"
     ]
    }
   ],
   "source": [
    "df['completion'] = df.apply(lambda r: BeautifulSoup(str(r.text).replace('<p>', '\\n')).get_text(), axis=1)"
   ]
  },
  {
   "cell_type": "code",
   "execution_count": 43,
   "id": "461e895f-64f3-41ef-8b4e-f1e832ed39a6",
   "metadata": {},
   "outputs": [],
   "source": [
    "data_df = df[['prompt', 'completion']]"
   ]
  },
  {
   "cell_type": "code",
   "execution_count": 44,
   "id": "c37c525e-0d5f-4056-9cfc-b33f66cd01f2",
   "metadata": {},
   "outputs": [
    {
     "data": {
      "text/plain": [
       "(69038, 2)"
      ]
     },
     "execution_count": 44,
     "metadata": {},
     "output_type": "execute_result"
    }
   ],
   "source": [
    "data_df.shape"
   ]
  },
  {
   "cell_type": "markdown",
   "id": "f9d5da5e-f19c-424c-b72c-425f9c9c27f3",
   "metadata": {},
   "source": [
    "#### 1k, 10k, 70k"
   ]
  },
  {
   "cell_type": "markdown",
   "id": "d7a3bd53-2a49-49bc-8ceb-2b35731559d7",
   "metadata": {},
   "source": [
    "### Ok, and what about tokenization?"
   ]
  },
  {
   "cell_type": "code",
   "execution_count": 46,
   "id": "cd82dbd1-c1b6-4751-bd86-fc2ce8ab618f",
   "metadata": {},
   "outputs": [],
   "source": [
    "tok = T5Tokenizer.from_pretrained('google/flan-t5-xl')"
   ]
  },
  {
   "cell_type": "code",
   "execution_count": 47,
   "id": "d2bcb299-69b2-4ef2-a937-a179066aae41",
   "metadata": {},
   "outputs": [
    {
     "name": "stderr",
     "output_type": "stream",
     "text": [
      "Token indices sequence length is longer than the specified maximum sequence length for this model (607 > 512). Running this sequence through the model will result in indexing errors\n",
      "/Users/dan/miniconda3/envs/base_ml/lib/python3.9/site-packages/transformers/models/t5/tokenization_t5.py:226: UserWarning: This sequence already has </s>. In future versions this behavior may lead to duplicated eos tokens being added.\n",
      "  warnings.warn(\n",
      "/var/folders/0q/132d4mqx32z7hhp3qh_g3vrm0000gn/T/ipykernel_40906/1527626582.py:1: SettingWithCopyWarning: \n",
      "A value is trying to be set on a copy of a slice from a DataFrame.\n",
      "Try using .loc[row_indexer,col_indexer] = value instead\n",
      "\n",
      "See the caveats in the documentation: https://pandas.pydata.org/pandas-docs/stable/user_guide/indexing.html#returning-a-view-versus-a-copy\n",
      "  data_df['prompt_tokens'] = data_df.apply(lambda r: tok(r.prompt), axis=1)\n"
     ]
    }
   ],
   "source": [
    "data_df['prompt_tokens'] = data_df.apply(lambda r: tok(r.prompt), axis=1)"
   ]
  },
  {
   "cell_type": "code",
   "execution_count": 52,
   "id": "ca684bad-cdee-4085-a873-b04f0ddfbd43",
   "metadata": {},
   "outputs": [
    {
     "name": "stderr",
     "output_type": "stream",
     "text": [
      "/var/folders/0q/132d4mqx32z7hhp3qh_g3vrm0000gn/T/ipykernel_40906/3727111619.py:1: SettingWithCopyWarning: \n",
      "A value is trying to be set on a copy of a slice from a DataFrame.\n",
      "Try using .loc[row_indexer,col_indexer] = value instead\n",
      "\n",
      "See the caveats in the documentation: https://pandas.pydata.org/pandas-docs/stable/user_guide/indexing.html#returning-a-view-versus-a-copy\n",
      "  data_df['prompt_len'] = [len(val['input_ids']) for val in data_df['prompt_tokens']]\n"
     ]
    }
   ],
   "source": [
    "data_df['prompt_len'] = [len(val['input_ids']) for val in data_df['prompt_tokens']]"
   ]
  },
  {
   "cell_type": "code",
   "execution_count": 53,
   "id": "10a3b6cd-123c-4b68-8c7b-f1529d919253",
   "metadata": {},
   "outputs": [
    {
     "data": {
      "text/plain": [
       "32      648\n",
       "33      636\n",
       "26      625\n",
       "29      619\n",
       "41      617\n",
       "       ... \n",
       "648       1\n",
       "632       1\n",
       "1758      1\n",
       "710       1\n",
       "935       1\n",
       "Name: prompt_len, Length: 997, dtype: int64"
      ]
     },
     "execution_count": 53,
     "metadata": {},
     "output_type": "execute_result"
    }
   ],
   "source": [
    "data_df.prompt_len.value_counts()"
   ]
  },
  {
   "cell_type": "code",
   "execution_count": 54,
   "id": "3ddcd285-5f68-49a7-81eb-c7b807c5f284",
   "metadata": {},
   "outputs": [
    {
     "data": {
      "text/plain": [
       "4291"
      ]
     },
     "execution_count": 54,
     "metadata": {},
     "output_type": "execute_result"
    }
   ],
   "source": [
    "max(data_df.prompt_len)"
   ]
  },
  {
   "cell_type": "code",
   "execution_count": 56,
   "id": "c2eebc48-856a-4ca5-b56c-2da27546e315",
   "metadata": {},
   "outputs": [
    {
     "data": {
      "text/plain": [
       "count    69038.000000\n",
       "mean       112.081361\n",
       "std        128.372138\n",
       "min          2.000000\n",
       "25%         38.000000\n",
       "50%         73.000000\n",
       "75%        139.000000\n",
       "max       4291.000000\n",
       "Name: prompt_len, dtype: float64"
      ]
     },
     "execution_count": 56,
     "metadata": {},
     "output_type": "execute_result"
    }
   ],
   "source": [
    "data_df.prompt_len.describe()"
   ]
  },
  {
   "cell_type": "code",
   "execution_count": 57,
   "id": "bd6d8bab-6e0b-4e00-87d7-57d60e702650",
   "metadata": {},
   "outputs": [
    {
     "data": {
      "text/plain": [
       "(1151, 4)"
      ]
     },
     "execution_count": 57,
     "metadata": {},
     "output_type": "execute_result"
    }
   ],
   "source": [
    "data_df[data_df.prompt_len > 512].shape"
   ]
  },
  {
   "cell_type": "code",
   "execution_count": 58,
   "id": "2e11ef8b-708e-47fe-a1b5-f9759bf7b67e",
   "metadata": {},
   "outputs": [
    {
     "data": {
      "text/plain": [
       "0.016671977751383297"
      ]
     },
     "execution_count": 58,
     "metadata": {},
     "output_type": "execute_result"
    }
   ],
   "source": [
    "1151 / 69038"
   ]
  },
  {
   "cell_type": "markdown",
   "id": "a0b3a006-39e8-4175-92cf-b91944d77bdf",
   "metadata": {},
   "source": [
    "1% of the data is above 512 tokens.  "
   ]
  },
  {
   "cell_type": "markdown",
   "id": "a155d516-56a5-4f48-aca5-59c92b2fb49e",
   "metadata": {},
   "source": [
    "Does this hold for the output"
   ]
  },
  {
   "cell_type": "code",
   "execution_count": 46,
   "id": "5fb5afff-0c78-4b7b-80dd-a003a8337f06",
   "metadata": {},
   "outputs": [],
   "source": [
    "tok = T5Tokenizer.from_pretrained('google/flan-t5-xl')"
   ]
  },
  {
   "cell_type": "code",
   "execution_count": 59,
   "id": "d93fedf3-fd16-4c4a-8dbd-d590414c1e48",
   "metadata": {},
   "outputs": [
    {
     "name": "stderr",
     "output_type": "stream",
     "text": [
      "/var/folders/0q/132d4mqx32z7hhp3qh_g3vrm0000gn/T/ipykernel_40906/1623134415.py:1: SettingWithCopyWarning: \n",
      "A value is trying to be set on a copy of a slice from a DataFrame.\n",
      "Try using .loc[row_indexer,col_indexer] = value instead\n",
      "\n",
      "See the caveats in the documentation: https://pandas.pydata.org/pandas-docs/stable/user_guide/indexing.html#returning-a-view-versus-a-copy\n",
      "  data_df['completion_tokens'] = data_df.apply(lambda r: tok(r.completion), axis=1)\n"
     ]
    }
   ],
   "source": [
    "data_df['completion_tokens'] = data_df.apply(lambda r: tok(r.completion), axis=1)"
   ]
  },
  {
   "cell_type": "code",
   "execution_count": 60,
   "id": "42b8293c-5c7b-4131-bebf-f2319336a70b",
   "metadata": {},
   "outputs": [
    {
     "name": "stderr",
     "output_type": "stream",
     "text": [
      "/var/folders/0q/132d4mqx32z7hhp3qh_g3vrm0000gn/T/ipykernel_40906/1565454480.py:1: SettingWithCopyWarning: \n",
      "A value is trying to be set on a copy of a slice from a DataFrame.\n",
      "Try using .loc[row_indexer,col_indexer] = value instead\n",
      "\n",
      "See the caveats in the documentation: https://pandas.pydata.org/pandas-docs/stable/user_guide/indexing.html#returning-a-view-versus-a-copy\n",
      "  data_df['completion_len'] = [len(val['input_ids']) for val in data_df['completion_tokens']]\n"
     ]
    }
   ],
   "source": [
    "data_df['completion_len'] = [len(val['input_ids']) for val in data_df['completion_tokens']]"
   ]
  },
  {
   "cell_type": "markdown",
   "id": "5310cf72-5f82-4ef4-8671-3f293513a761",
   "metadata": {},
   "source": [
    "Need to scrub `</s>`"
   ]
  },
  {
   "cell_type": "code",
   "execution_count": 61,
   "id": "01160dc1-663f-466a-8297-0f64481a0403",
   "metadata": {},
   "outputs": [
    {
     "data": {
      "text/plain": [
       "(555, 6)"
      ]
     },
     "execution_count": 61,
     "metadata": {},
     "output_type": "execute_result"
    }
   ],
   "source": [
    "data_df[data_df.completion_len > 512].shape"
   ]
  },
  {
   "cell_type": "code",
   "execution_count": 62,
   "id": "3db09726-cc1e-45f4-9f7a-2eb4048371aa",
   "metadata": {},
   "outputs": [
    {
     "data": {
      "text/plain": [
       "3862"
      ]
     },
     "execution_count": 62,
     "metadata": {},
     "output_type": "execute_result"
    }
   ],
   "source": [
    "max(data_df.completion_len)"
   ]
  },
  {
   "cell_type": "markdown",
   "id": "0f7ad1be-6fea-42c7-b7d2-48feacc0d036",
   "metadata": {},
   "source": [
    "Replies are smaller! imagine that. "
   ]
  },
  {
   "cell_type": "code",
   "execution_count": 63,
   "id": "d37a19c9-0950-4165-bfab-3a9821306496",
   "metadata": {},
   "outputs": [
    {
     "data": {
      "text/plain": [
       "count    69038.000000\n",
       "mean        87.446319\n",
       "std         99.036629\n",
       "min          2.000000\n",
       "25%         31.000000\n",
       "50%         58.000000\n",
       "75%        108.000000\n",
       "max       3862.000000\n",
       "Name: completion_len, dtype: float64"
      ]
     },
     "execution_count": 63,
     "metadata": {},
     "output_type": "execute_result"
    }
   ],
   "source": [
    "data_df.completion_len.describe()"
   ]
  },
  {
   "cell_type": "markdown",
   "id": "763b3a07-eab5-4021-a53a-cce9a545ebce",
   "metadata": {},
   "source": [
    "Let's go ahead and pull out prompts > 512 tokens, responses > 512 tokens."
   ]
  },
  {
   "cell_type": "code",
   "execution_count": 65,
   "id": "495f7d1f-0e24-4ce9-94ed-5346f63b0c02",
   "metadata": {},
   "outputs": [],
   "source": [
    "data_df = data_df[data_df.apply(lambda r: r.prompt_len < 512 and r.completion_len < 512, axis=1)]"
   ]
  },
  {
   "cell_type": "code",
   "execution_count": 66,
   "id": "5df45684-5e09-4c52-8c72-9ccc10eff932",
   "metadata": {},
   "outputs": [
    {
     "data": {
      "text/plain": [
       "(67377, 6)"
      ]
     },
     "execution_count": 66,
     "metadata": {},
     "output_type": "execute_result"
    }
   ],
   "source": [
    "data_df.shape"
   ]
  },
  {
   "cell_type": "code",
   "execution_count": 67,
   "id": "e1b868b2-8e04-4be3-8c84-bf597ea71c62",
   "metadata": {},
   "outputs": [
    {
     "data": {
      "text/plain": [
       "Index(['prompt', 'completion', 'prompt_tokens', 'prompt_len',\n",
       "       'completion_tokens', 'completion_len'],\n",
       "      dtype='object')"
      ]
     },
     "execution_count": 67,
     "metadata": {},
     "output_type": "execute_result"
    }
   ],
   "source": [
    "data_df.columns"
   ]
  },
  {
   "cell_type": "code",
   "execution_count": null,
   "id": "ea65c6f7-510e-4434-9ca3-93a8a4317009",
   "metadata": {},
   "outputs": [],
   "source": [
    "data_df['prompt'] = data"
   ]
  },
  {
   "cell_type": "code",
   "execution_count": 79,
   "id": "b6488639-8e9f-413c-a7bc-52179b67f9d3",
   "metadata": {},
   "outputs": [
    {
     "data": {
      "text/plain": [
       "\"Here's his gallery at Fine Art America - http://fineartamerica.com/profiles/jason-padgett.html  (aren't search engines an amazing thing! </s> )\""
      ]
     },
     "execution_count": 79,
     "metadata": {},
     "output_type": "execute_result"
    }
   ],
   "source": [
    "data_df[data_df.apply(lambda r: '</s>' in r.completion, axis=1)].completion.values[0]"
   ]
  },
  {
   "cell_type": "code",
   "execution_count": 80,
   "id": "79538ebb-76e2-43d9-95aa-a8cbb33cc3cb",
   "metadata": {},
   "outputs": [],
   "source": [
    "data_df['prompt'] = data_df.apply(lambda r: r.prompt.replace('</s>', ''), axis=1)"
   ]
  },
  {
   "cell_type": "code",
   "execution_count": 81,
   "id": "b31cb8ea-0753-4adc-b01c-9f59fcad71e7",
   "metadata": {},
   "outputs": [],
   "source": [
    "data_df['completion'] = data_df.apply(lambda r: r.completion.replace('</s>', ''), axis=1)"
   ]
  },
  {
   "cell_type": "markdown",
   "id": "ba024dd4-c349-423f-b9f9-75b2ccb4556a",
   "metadata": {},
   "source": [
    "#### Great. Now let's export this to three different JSONLs - 1k, 10k, full dataset"
   ]
  },
  {
   "cell_type": "code",
   "execution_count": 85,
   "id": "2b8e5821-1ddc-4338-84c3-3c83a2d48212",
   "metadata": {},
   "outputs": [],
   "source": [
    "final_df = data_df[['prompt', 'completion']]"
   ]
  },
  {
   "cell_type": "code",
   "execution_count": 86,
   "id": "a5d8ebd8-dfc1-4209-ad3a-93bba7e39166",
   "metadata": {},
   "outputs": [],
   "source": [
    "df_1k = final_df.sample(n=1000)"
   ]
  },
  {
   "cell_type": "code",
   "execution_count": 87,
   "id": "a62aedec-7625-4b97-bb61-d7effe990d73",
   "metadata": {},
   "outputs": [],
   "source": [
    "df_1k.to_json('1k_samples.jsonl', orient='records', lines=True)"
   ]
  },
  {
   "cell_type": "code",
   "execution_count": 89,
   "id": "6f5fe64e-e07a-4051-a455-910e297a4ead",
   "metadata": {},
   "outputs": [],
   "source": [
    "df_10k = final_df.sample(n=10000)"
   ]
  },
  {
   "cell_type": "code",
   "execution_count": 90,
   "id": "4b939d51-bea2-4c6e-8736-c91ce799fb01",
   "metadata": {},
   "outputs": [],
   "source": [
    "df_1k.to_json('10k_samples.jsonl', orient='records', lines=True)"
   ]
  },
  {
   "cell_type": "code",
   "execution_count": 91,
   "id": "ce192d12-8c17-4bce-bf34-afe8e786bf40",
   "metadata": {},
   "outputs": [],
   "source": [
    "final_df.to_json('70k_samples.jsonl', orient='records', lines=True)"
   ]
  }
 ],
 "metadata": {
  "kernelspec": {
   "display_name": "Python 3 (ipykernel)",
   "language": "python",
   "name": "python3"
  },
  "language_info": {
   "codemirror_mode": {
    "name": "ipython",
    "version": 3
   },
   "file_extension": ".py",
   "mimetype": "text/x-python",
   "name": "python",
   "nbconvert_exporter": "python",
   "pygments_lexer": "ipython3",
   "version": "3.9.16"
  }
 },
 "nbformat": 4,
 "nbformat_minor": 5
}
